{
 "cells": [
  {
   "cell_type": "markdown",
   "metadata": {},
   "source": [
    "# Com S 574 - HW 1\n",
    "## Miles Lucas"
   ]
  },
  {
   "cell_type": "code",
   "execution_count": 1,
   "metadata": {},
   "outputs": [],
   "source": [
    "# Setup\n",
    "import plotly.offline as plotly\n",
    "import plotly.graph_objs as go\n",
    "import plotly.figure_factory as ff\n",
    "import cufflinks as cf\n",
    "import pandas as pd\n",
    "import numpy as np"
   ]
  },
  {
   "cell_type": "markdown",
   "metadata": {},
   "source": [
    "### Problem 1\n",
    "---\n",
    "\n",
    "Using test point \n",
    "$$ X_1=X_2=X_3=0  $$"
   ]
  },
  {
   "cell_type": "code",
   "execution_count": 2,
   "metadata": {},
   "outputs": [
    {
     "data": {
      "application/vnd.plotly.v1+json": {
       "config": {
        "linkText": "Export to plot.ly",
        "plotlyServerURL": "https://plot.ly",
        "showLink": false
       },
       "data": [
        {
         "colorscale": [
          [
           0,
           "#00083e"
          ],
          [
           0.5,
           "#ededee"
          ],
          [
           1,
           "#ffffff"
          ]
         ],
         "hoverinfo": "none",
         "opacity": 0.75,
         "showscale": false,
         "type": "heatmap",
         "uid": "6de84b56-522d-48ac-b42c-d8b666a7cf48",
         "z": [
          [
           0,
           0,
           0,
           0
          ],
          [
           0.5,
           0.5,
           0.5,
           0.5
          ],
          [
           1,
           1,
           1,
           1
          ],
          [
           0.5,
           0.5,
           0.5,
           0.5
          ],
          [
           1,
           1,
           1,
           1
          ],
          [
           0.5,
           0.5,
           0.5,
           0.5
          ],
          [
           1,
           1,
           1,
           1
          ]
         ]
        }
       ],
       "layout": {
        "annotations": [
         {
          "align": "left",
          "font": {
           "color": "#ffffff"
          },
          "showarrow": false,
          "text": "<b>X1</b>",
          "x": -0.45,
          "xanchor": "left",
          "xref": "x",
          "y": 0,
          "yref": "y"
         },
         {
          "align": "left",
          "font": {
           "color": "#ffffff"
          },
          "showarrow": false,
          "text": "<b>X2</b>",
          "x": 0.55,
          "xanchor": "left",
          "xref": "x",
          "y": 0,
          "yref": "y"
         },
         {
          "align": "left",
          "font": {
           "color": "#ffffff"
          },
          "showarrow": false,
          "text": "<b>X3</b>",
          "x": 1.55,
          "xanchor": "left",
          "xref": "x",
          "y": 0,
          "yref": "y"
         },
         {
          "align": "left",
          "font": {
           "color": "#ffffff"
          },
          "showarrow": false,
          "text": "<b>Y</b>",
          "x": 2.55,
          "xanchor": "left",
          "xref": "x",
          "y": 0,
          "yref": "y"
         },
         {
          "align": "left",
          "font": {
           "color": "#000000"
          },
          "showarrow": false,
          "text": "2",
          "x": -0.45,
          "xanchor": "left",
          "xref": "x",
          "y": 1,
          "yref": "y"
         },
         {
          "align": "left",
          "font": {
           "color": "#000000"
          },
          "showarrow": false,
          "text": "3",
          "x": 0.55,
          "xanchor": "left",
          "xref": "x",
          "y": 1,
          "yref": "y"
         },
         {
          "align": "left",
          "font": {
           "color": "#000000"
          },
          "showarrow": false,
          "text": "0",
          "x": 1.55,
          "xanchor": "left",
          "xref": "x",
          "y": 1,
          "yref": "y"
         },
         {
          "align": "left",
          "font": {
           "color": "#000000"
          },
          "showarrow": false,
          "text": "Red",
          "x": 2.55,
          "xanchor": "left",
          "xref": "x",
          "y": 1,
          "yref": "y"
         },
         {
          "align": "left",
          "font": {
           "color": "#000000"
          },
          "showarrow": false,
          "text": "2",
          "x": -0.45,
          "xanchor": "left",
          "xref": "x",
          "y": 2,
          "yref": "y"
         },
         {
          "align": "left",
          "font": {
           "color": "#000000"
          },
          "showarrow": false,
          "text": "0",
          "x": 0.55,
          "xanchor": "left",
          "xref": "x",
          "y": 2,
          "yref": "y"
         },
         {
          "align": "left",
          "font": {
           "color": "#000000"
          },
          "showarrow": false,
          "text": "1",
          "x": 1.55,
          "xanchor": "left",
          "xref": "x",
          "y": 2,
          "yref": "y"
         },
         {
          "align": "left",
          "font": {
           "color": "#000000"
          },
          "showarrow": false,
          "text": "Red",
          "x": 2.55,
          "xanchor": "left",
          "xref": "x",
          "y": 2,
          "yref": "y"
         },
         {
          "align": "left",
          "font": {
           "color": "#000000"
          },
          "showarrow": false,
          "text": "0",
          "x": -0.45,
          "xanchor": "left",
          "xref": "x",
          "y": 3,
          "yref": "y"
         },
         {
          "align": "left",
          "font": {
           "color": "#000000"
          },
          "showarrow": false,
          "text": "1",
          "x": 0.55,
          "xanchor": "left",
          "xref": "x",
          "y": 3,
          "yref": "y"
         },
         {
          "align": "left",
          "font": {
           "color": "#000000"
          },
          "showarrow": false,
          "text": "3",
          "x": 1.55,
          "xanchor": "left",
          "xref": "x",
          "y": 3,
          "yref": "y"
         },
         {
          "align": "left",
          "font": {
           "color": "#000000"
          },
          "showarrow": false,
          "text": "Red",
          "x": 2.55,
          "xanchor": "left",
          "xref": "x",
          "y": 3,
          "yref": "y"
         },
         {
          "align": "left",
          "font": {
           "color": "#000000"
          },
          "showarrow": false,
          "text": "0",
          "x": -0.45,
          "xanchor": "left",
          "xref": "x",
          "y": 4,
          "yref": "y"
         },
         {
          "align": "left",
          "font": {
           "color": "#000000"
          },
          "showarrow": false,
          "text": "1",
          "x": 0.55,
          "xanchor": "left",
          "xref": "x",
          "y": 4,
          "yref": "y"
         },
         {
          "align": "left",
          "font": {
           "color": "#000000"
          },
          "showarrow": false,
          "text": "2",
          "x": 1.55,
          "xanchor": "left",
          "xref": "x",
          "y": 4,
          "yref": "y"
         },
         {
          "align": "left",
          "font": {
           "color": "#000000"
          },
          "showarrow": false,
          "text": "Green",
          "x": 2.55,
          "xanchor": "left",
          "xref": "x",
          "y": 4,
          "yref": "y"
         },
         {
          "align": "left",
          "font": {
           "color": "#000000"
          },
          "showarrow": false,
          "text": "-1",
          "x": -0.45,
          "xanchor": "left",
          "xref": "x",
          "y": 5,
          "yref": "y"
         },
         {
          "align": "left",
          "font": {
           "color": "#000000"
          },
          "showarrow": false,
          "text": "0",
          "x": 0.55,
          "xanchor": "left",
          "xref": "x",
          "y": 5,
          "yref": "y"
         },
         {
          "align": "left",
          "font": {
           "color": "#000000"
          },
          "showarrow": false,
          "text": "1",
          "x": 1.55,
          "xanchor": "left",
          "xref": "x",
          "y": 5,
          "yref": "y"
         },
         {
          "align": "left",
          "font": {
           "color": "#000000"
          },
          "showarrow": false,
          "text": "Green",
          "x": 2.55,
          "xanchor": "left",
          "xref": "x",
          "y": 5,
          "yref": "y"
         },
         {
          "align": "left",
          "font": {
           "color": "#000000"
          },
          "showarrow": false,
          "text": "1",
          "x": -0.45,
          "xanchor": "left",
          "xref": "x",
          "y": 6,
          "yref": "y"
         },
         {
          "align": "left",
          "font": {
           "color": "#000000"
          },
          "showarrow": false,
          "text": "-1",
          "x": 0.55,
          "xanchor": "left",
          "xref": "x",
          "y": 6,
          "yref": "y"
         },
         {
          "align": "left",
          "font": {
           "color": "#000000"
          },
          "showarrow": false,
          "text": "1",
          "x": 1.55,
          "xanchor": "left",
          "xref": "x",
          "y": 6,
          "yref": "y"
         },
         {
          "align": "left",
          "font": {
           "color": "#000000"
          },
          "showarrow": false,
          "text": "Red",
          "x": 2.55,
          "xanchor": "left",
          "xref": "x",
          "y": 6,
          "yref": "y"
         }
        ],
        "autosize": true,
        "margin": {
         "b": 0,
         "l": 0,
         "r": 0,
         "t": 0
        },
        "xaxis": {
         "autorange": true,
         "dtick": 1,
         "gridwidth": 2,
         "range": [
          -0.5,
          3.5
         ],
         "showticklabels": false,
         "tick0": -0.5,
         "ticks": "",
         "zeroline": false
        },
        "yaxis": {
         "autorange": true,
         "dtick": 1,
         "gridwidth": 2,
         "range": [
          6.5,
          -0.5
         ],
         "showticklabels": false,
         "tick0": 0.5,
         "ticks": "",
         "zeroline": false
        }
       }
      },
      "image/png": "[encoded data removed]"
     },
     "metadata": {},
     "output_type": "display_data"
    }
   ],
   "source": [
    "# Set up Data\n",
    "observations = pd.DataFrame({\n",
    "    'X1': [2, 2, 0, 0, -1, 1], \n",
    "    'X2': [3, 0, 1, 1, 0, -1], \n",
    "    'X3': [0, 1, 3, 2, 1, 1], \n",
    "    'Y': [\"Red\", \"Red\", \"Red\", \"Green\", \"Green\", \"Red\"]\n",
    "})\n",
    "plotly.iplot(ff.create_table(observations))"
   ]
  },
  {
   "cell_type": "code",
   "execution_count": 3,
   "metadata": {},
   "outputs": [
    {
     "data": {
      "application/vnd.plotly.v1+json": {
       "config": {
        "linkText": "Export to plot.ly",
        "plotlyServerURL": "https://plot.ly",
        "showLink": false
       },
       "data": [
        {
         "marker": {
          "color": [
           "red",
           "red",
           "red",
           "green",
           "green",
           "red"
          ],
          "size": 4
         },
         "mode": "markers",
         "type": "scatter3d",
         "uid": "0ef0f97c-321b-4b24-8d72-74131fb68fdc",
         "x": [
          2,
          2,
          0,
          0,
          -1,
          1
         ],
         "y": [
          3,
          0,
          1,
          1,
          0,
          -1
         ],
         "z": [
          0,
          1,
          3,
          2,
          1,
          1
         ]
        }
       ],
       "layout": {
        "autosize": true,
        "scene": {
         "aspectmode": "auto",
         "aspectratio": {
          "x": 0.90856029641607,
          "y": 1.21141372855476,
          "z": 0.90856029641607
         },
         "xaxis": {
          "title": {
           "text": "X1"
          },
          "type": "linear"
         },
         "yaxis": {
          "title": {
           "text": "X2"
          },
          "type": "linear"
         },
         "zaxis": {
          "title": {
           "text": "X3"
          },
          "type": "linear"
         }
        }
       }
      },
      "image/png": "[encoded data removed]"
     },
     "metadata": {},
     "output_type": "display_data"
    }
   ],
   "source": [
    "trace = go.Scatter3d(\n",
    "    x=observations['X1'], \n",
    "    y=observations['X2'], \n",
    "    z=observations['X3'],\n",
    "    mode='markers',\n",
    "    marker = dict(\n",
    "        size=4,\n",
    "        color=observations['Y'].apply(lambda s: s.lower())\n",
    "    )\n",
    ")\n",
    "layout = go.Layout(\n",
    "    scene=dict(\n",
    "        xaxis=dict(title='X1'),\n",
    "        yaxis=dict(title='X2'),\n",
    "        zaxis=dict(title='X3'),\n",
    "    ),\n",
    "    height=600\n",
    ")\n",
    "fig = go.Figure(data=[trace], layout=layout)\n",
    "plotly.iplot(fig)"
   ]
  },
  {
   "cell_type": "markdown",
   "metadata": {},
   "source": [
    "#### a)\n",
    "The Euclidean distance in cartesian coordinates between 2 points is given using the formula\n",
    "\n",
    "$$ D(\\vec{r}_1, \\vec{r}_2) = \\sqrt{(x_1 - x_2)^2 + (y_1 - y_2)^2 + (z_1 - z_2)^2} $$\n",
    "\n",
    "This is conveniently implemented in the numpy.linalg.norm function\n"
   ]
  },
  {
   "cell_type": "code",
   "execution_count": 4,
   "metadata": {},
   "outputs": [],
   "source": [
    "Xtest = np.zeros(3)"
   ]
  },
  {
   "cell_type": "code",
   "execution_count": 5,
   "metadata": {},
   "outputs": [
    {
     "data": {
      "application/vnd.plotly.v1+json": {
       "config": {
        "linkText": "Export to plot.ly",
        "plotlyServerURL": "https://plot.ly",
        "showLink": false
       },
       "data": [
        {
         "colorscale": [
          [
           0,
           "#00083e"
          ],
          [
           0.5,
           "#ededee"
          ],
          [
           1,
           "#ffffff"
          ]
         ],
         "hoverinfo": "none",
         "opacity": 0.75,
         "showscale": false,
         "type": "heatmap",
         "uid": "cd5a0950-adf0-4879-897e-544d6d8a288c",
         "z": [
          [
           0,
           0,
           0,
           0,
           0
          ],
          [
           0.5,
           0.5,
           0.5,
           0.5,
           0.5
          ],
          [
           1,
           1,
           1,
           1,
           1
          ],
          [
           0.5,
           0.5,
           0.5,
           0.5,
           0.5
          ],
          [
           1,
           1,
           1,
           1,
           1
          ],
          [
           0.5,
           0.5,
           0.5,
           0.5,
           0.5
          ],
          [
           1,
           1,
           1,
           1,
           1
          ]
         ]
        }
       ],
       "layout": {
        "annotations": [
         {
          "align": "left",
          "font": {
           "color": "#ffffff"
          },
          "showarrow": false,
          "text": "<b>X1</b>",
          "x": -0.45,
          "xanchor": "left",
          "xref": "x",
          "y": 0,
          "yref": "y"
         },
         {
          "align": "left",
          "font": {
           "color": "#ffffff"
          },
          "showarrow": false,
          "text": "<b>X2</b>",
          "x": 0.55,
          "xanchor": "left",
          "xref": "x",
          "y": 0,
          "yref": "y"
         },
         {
          "align": "left",
          "font": {
           "color": "#ffffff"
          },
          "showarrow": false,
          "text": "<b>X3</b>",
          "x": 1.55,
          "xanchor": "left",
          "xref": "x",
          "y": 0,
          "yref": "y"
         },
         {
          "align": "left",
          "font": {
           "color": "#ffffff"
          },
          "showarrow": false,
          "text": "<b>Y</b>",
          "x": 2.55,
          "xanchor": "left",
          "xref": "x",
          "y": 0,
          "yref": "y"
         },
         {
          "align": "left",
          "font": {
           "color": "#ffffff"
          },
          "showarrow": false,
          "text": "<b>dist</b>",
          "x": 3.55,
          "xanchor": "left",
          "xref": "x",
          "y": 0,
          "yref": "y"
         },
         {
          "align": "left",
          "font": {
           "color": "#000000"
          },
          "showarrow": false,
          "text": "2",
          "x": -0.45,
          "xanchor": "left",
          "xref": "x",
          "y": 1,
          "yref": "y"
         },
         {
          "align": "left",
          "font": {
           "color": "#000000"
          },
          "showarrow": false,
          "text": "3",
          "x": 0.55,
          "xanchor": "left",
          "xref": "x",
          "y": 1,
          "yref": "y"
         },
         {
          "align": "left",
          "font": {
           "color": "#000000"
          },
          "showarrow": false,
          "text": "0",
          "x": 1.55,
          "xanchor": "left",
          "xref": "x",
          "y": 1,
          "yref": "y"
         },
         {
          "align": "left",
          "font": {
           "color": "#000000"
          },
          "showarrow": false,
          "text": "Red",
          "x": 2.55,
          "xanchor": "left",
          "xref": "x",
          "y": 1,
          "yref": "y"
         },
         {
          "align": "left",
          "font": {
           "color": "#000000"
          },
          "showarrow": false,
          "text": "3.605551275463989",
          "x": 3.55,
          "xanchor": "left",
          "xref": "x",
          "y": 1,
          "yref": "y"
         },
         {
          "align": "left",
          "font": {
           "color": "#000000"
          },
          "showarrow": false,
          "text": "2",
          "x": -0.45,
          "xanchor": "left",
          "xref": "x",
          "y": 2,
          "yref": "y"
         },
         {
          "align": "left",
          "font": {
           "color": "#000000"
          },
          "showarrow": false,
          "text": "0",
          "x": 0.55,
          "xanchor": "left",
          "xref": "x",
          "y": 2,
          "yref": "y"
         },
         {
          "align": "left",
          "font": {
           "color": "#000000"
          },
          "showarrow": false,
          "text": "1",
          "x": 1.55,
          "xanchor": "left",
          "xref": "x",
          "y": 2,
          "yref": "y"
         },
         {
          "align": "left",
          "font": {
           "color": "#000000"
          },
          "showarrow": false,
          "text": "Red",
          "x": 2.55,
          "xanchor": "left",
          "xref": "x",
          "y": 2,
          "yref": "y"
         },
         {
          "align": "left",
          "font": {
           "color": "#000000"
          },
          "showarrow": false,
          "text": "2.23606797749979",
          "x": 3.55,
          "xanchor": "left",
          "xref": "x",
          "y": 2,
          "yref": "y"
         },
         {
          "align": "left",
          "font": {
           "color": "#000000"
          },
          "showarrow": false,
          "text": "0",
          "x": -0.45,
          "xanchor": "left",
          "xref": "x",
          "y": 3,
          "yref": "y"
         },
         {
          "align": "left",
          "font": {
           "color": "#000000"
          },
          "showarrow": false,
          "text": "1",
          "x": 0.55,
          "xanchor": "left",
          "xref": "x",
          "y": 3,
          "yref": "y"
         },
         {
          "align": "left",
          "font": {
           "color": "#000000"
          },
          "showarrow": false,
          "text": "3",
          "x": 1.55,
          "xanchor": "left",
          "xref": "x",
          "y": 3,
          "yref": "y"
         },
         {
          "align": "left",
          "font": {
           "color": "#000000"
          },
          "showarrow": false,
          "text": "Red",
          "x": 2.55,
          "xanchor": "left",
          "xref": "x",
          "y": 3,
          "yref": "y"
         },
         {
          "align": "left",
          "font": {
           "color": "#000000"
          },
          "showarrow": false,
          "text": "3.1622776601683795",
          "x": 3.55,
          "xanchor": "left",
          "xref": "x",
          "y": 3,
          "yref": "y"
         },
         {
          "align": "left",
          "font": {
           "color": "#000000"
          },
          "showarrow": false,
          "text": "0",
          "x": -0.45,
          "xanchor": "left",
          "xref": "x",
          "y": 4,
          "yref": "y"
         },
         {
          "align": "left",
          "font": {
           "color": "#000000"
          },
          "showarrow": false,
          "text": "1",
          "x": 0.55,
          "xanchor": "left",
          "xref": "x",
          "y": 4,
          "yref": "y"
         },
         {
          "align": "left",
          "font": {
           "color": "#000000"
          },
          "showarrow": false,
          "text": "2",
          "x": 1.55,
          "xanchor": "left",
          "xref": "x",
          "y": 4,
          "yref": "y"
         },
         {
          "align": "left",
          "font": {
           "color": "#000000"
          },
          "showarrow": false,
          "text": "Green",
          "x": 2.55,
          "xanchor": "left",
          "xref": "x",
          "y": 4,
          "yref": "y"
         },
         {
          "align": "left",
          "font": {
           "color": "#000000"
          },
          "showarrow": false,
          "text": "2.23606797749979",
          "x": 3.55,
          "xanchor": "left",
          "xref": "x",
          "y": 4,
          "yref": "y"
         },
         {
          "align": "left",
          "font": {
           "color": "#000000"
          },
          "showarrow": false,
          "text": "-1",
          "x": -0.45,
          "xanchor": "left",
          "xref": "x",
          "y": 5,
          "yref": "y"
         },
         {
          "align": "left",
          "font": {
           "color": "#000000"
          },
          "showarrow": false,
          "text": "0",
          "x": 0.55,
          "xanchor": "left",
          "xref": "x",
          "y": 5,
          "yref": "y"
         },
         {
          "align": "left",
          "font": {
           "color": "#000000"
          },
          "showarrow": false,
          "text": "1",
          "x": 1.55,
          "xanchor": "left",
          "xref": "x",
          "y": 5,
          "yref": "y"
         },
         {
          "align": "left",
          "font": {
           "color": "#000000"
          },
          "showarrow": false,
          "text": "Green",
          "x": 2.55,
          "xanchor": "left",
          "xref": "x",
          "y": 5,
          "yref": "y"
         },
         {
          "align": "left",
          "font": {
           "color": "#000000"
          },
          "showarrow": false,
          "text": "1.4142135623730951",
          "x": 3.55,
          "xanchor": "left",
          "xref": "x",
          "y": 5,
          "yref": "y"
         },
         {
          "align": "left",
          "font": {
           "color": "#000000"
          },
          "showarrow": false,
          "text": "1",
          "x": -0.45,
          "xanchor": "left",
          "xref": "x",
          "y": 6,
          "yref": "y"
         },
         {
          "align": "left",
          "font": {
           "color": "#000000"
          },
          "showarrow": false,
          "text": "-1",
          "x": 0.55,
          "xanchor": "left",
          "xref": "x",
          "y": 6,
          "yref": "y"
         },
         {
          "align": "left",
          "font": {
           "color": "#000000"
          },
          "showarrow": false,
          "text": "1",
          "x": 1.55,
          "xanchor": "left",
          "xref": "x",
          "y": 6,
          "yref": "y"
         },
         {
          "align": "left",
          "font": {
           "color": "#000000"
          },
          "showarrow": false,
          "text": "Red",
          "x": 2.55,
          "xanchor": "left",
          "xref": "x",
          "y": 6,
          "yref": "y"
         },
         {
          "align": "left",
          "font": {
           "color": "#000000"
          },
          "showarrow": false,
          "text": "1.7320508075688772",
          "x": 3.55,
          "xanchor": "left",
          "xref": "x",
          "y": 6,
          "yref": "y"
         }
        ],
        "autosize": true,
        "margin": {
         "b": 0,
         "l": 0,
         "r": 0,
         "t": 0
        },
        "xaxis": {
         "autorange": true,
         "dtick": 1,
         "gridwidth": 2,
         "range": [
          -0.5,
          4.5
         ],
         "showticklabels": false,
         "tick0": -0.5,
         "ticks": "",
         "zeroline": false
        },
        "yaxis": {
         "autorange": true,
         "dtick": 1,
         "gridwidth": 2,
         "range": [
          6.5,
          -0.5
         ],
         "showticklabels": false,
         "tick0": 0.5,
         "ticks": "",
         "zeroline": false
        }
       }
      },
      "image/png": "[encoded data removed]"
     },
     "metadata": {},
     "output_type": "display_data"
    }
   ],
   "source": [
    "observations['dist'] = np.linalg.norm(observations[['X1', 'X2', 'X3']]-Xtest, axis=1)\n",
    "plotly.iplot(ff.create_table(observations))"
   ]
  },
  {
   "cell_type": "code",
   "execution_count": 6,
   "metadata": {},
   "outputs": [
    {
     "data": {
      "application/vnd.plotly.v1+json": {
       "config": {
        "linkText": "Export to plot.ly",
        "plotlyServerURL": "https://plot.ly",
        "showLink": false
       },
       "data": [
        {
         "marker": {
          "color": [
           "green",
           "red",
           "red",
           "green",
           "red",
           "red"
          ],
          "size": 10
         },
         "mode": "markers",
         "type": "scatter",
         "uid": "cf0a5802-b90a-4f11-b922-84524579faa1",
         "y": [
          1.4142135623730951,
          1.7320508075688772,
          2.23606797749979,
          2.23606797749979,
          3.1622776601683795,
          3.605551275463989
         ]
        }
       ],
       "layout": {
        "autosize": true,
        "xaxis": {
         "autorange": true,
         "range": [
          -0.3188157428199977,
          5.318815742819997
         ]
        },
        "yaxis": {
         "autorange": true,
         "range": [
          1.2508374948444307,
          3.7689273429926535
         ],
         "title": {
          "text": "Euclidean Distance"
         },
         "type": "linear"
        }
       }
      },
      "image/png": "[encoded data removed]"
     },
     "metadata": {},
     "output_type": "display_data"
    }
   ],
   "source": [
    "sorted_obs = observations.sort_values('dist')\n",
    "trace = go.Scatter(\n",
    "    y=sorted_obs['dist'],\n",
    "    mode='markers',\n",
    "    marker = dict(\n",
    "        size=10,\n",
    "        color=sorted_obs['Y'].apply(lambda s: s.lower())\n",
    "    ),\n",
    ")\n",
    "layout = go.Layout(\n",
    "    yaxis = dict(\n",
    "        title='Euclidean Distance'\n",
    "    ),\n",
    "    height=600\n",
    ")\n",
    "fig = go.Figure([trace], layout)\n",
    "plotly.iplot(fig)"
   ]
  },
  {
   "cell_type": "markdown",
   "metadata": {},
   "source": [
    "#### b) \n",
    "To make estimates, I will look at what observation the nearest point had- `Green`. So I would predict that my test point would observe `Green`\n",
    "\n",
    "#### c)\n",
    "Similarly, the closest 3 points are `[Green, Red, Red/Green]`. There is a tie in the 3rd closest point, (observations 2 and 4). For a tie-breaker, I will choose whichever one shows up first in the sorting according to python, which is `Red`. Therefore, there is $\\frac13$ chance of the test point being `Green`, and $\\frac23$ chance of being `Red`, so I would predict `Red`\n",
    "\n",
    "#### d)\n",
    "If the Bayes decision boundary is highly non-linear, we should expect the best-fit $K$ to be small. If we use too large of $K$ our boundary estimator won't be flexible enough to handle the non-linearities of the true conditional distribution. However, if we choose too small of $K$ our boundary might over-fit and lead to a large testing error."
   ]
  },
  {
   "cell_type": "markdown",
   "metadata": {},
   "source": [
    "### Problem 2: KNN Implementation (Python)\n",
    "---\n",
    "The K nearest neighbors creates a conditional probability distribution given the $K$ nearest points to a test point. In our instance, we have calculated the Euclidian distance from the test point, so we can find the nearest neighbors by getting the first $K$ points from the sorted dataframe. The probabilities end up looking like\n",
    "\n",
    "$$ P(Y=j | X=x_0) = \\frac1K \\sum_{i\\in{N_0}}{I(y_i=j)} $$\n",
    "\n",
    "where $N_0$ is the subset of nearest neighbors in the observation set and $j$ are the possible classes\n",
    "\n",
    "$$ j \\in \\{\\text{\"Red\"}, \\text{\"Green\"} \\} $$"
   ]
  },
  {
   "cell_type": "code",
   "execution_count": 7,
   "metadata": {},
   "outputs": [],
   "source": [
    "trainX = observations[['X1', 'X2', 'X3']].values\n",
    "trainY = observations['Y'].values"
   ]
  },
  {
   "cell_type": "code",
   "execution_count": 8,
   "metadata": {},
   "outputs": [],
   "source": [
    "def knn(k, trainx, trainy, testx):\n",
    "    \"\"\"\n",
    "    KNN algorithm\n",
    "\n",
    "    Parameters\n",
    "    ----------\n",
    "    k : int\n",
    "        the number of neighbors to consider\n",
    "    trainx : array_like\n",
    "        the training sets of independent variables\n",
    "    trainy : array_like\n",
    "        the training set of observations\n",
    "    testx : array_like\n",
    "        the testing set of independent variables\n",
    "\n",
    "    Returns\n",
    "    -------\n",
    "    category, probability : tuple\n",
    "        The predicted category and its corresponding probability\n",
    "\n",
    "    Note\n",
    "    ----\n",
    "    There is no real tie-breaking here.\n",
    "    \"\"\"\n",
    "    dist = np.linalg.norm(trainx - testx, axis=1)\n",
    "    sorted_obs = trainy[np.argsort(dist)]\n",
    "    neighbors = sorted_obs[:k]\n",
    "    probs = {}\n",
    "    for category in np.unique(neighbors):\n",
    "        probs[category] = np.sum(neighbors == category) / len(neighbors)\n",
    "    predicted = max(probs, key=probs.get)\n",
    "    predicted_prob = probs[predicted]\n",
    "    return predicted, predicted_prob"
   ]
  },
  {
   "cell_type": "markdown",
   "metadata": {},
   "source": [
    "#### b)\n",
    "\n",
    "Check if KNN with $K$=1 and 3 matches my predictions from problem 1."
   ]
  },
  {
   "cell_type": "code",
   "execution_count": 9,
   "metadata": {},
   "outputs": [
    {
     "data": {
      "text/plain": [
       "('Green', 1.0)"
      ]
     },
     "execution_count": 9,
     "metadata": {},
     "output_type": "execute_result"
    }
   ],
   "source": [
    "knn(1, trainX, trainY, Xtest)"
   ]
  },
  {
   "cell_type": "code",
   "execution_count": 10,
   "metadata": {},
   "outputs": [
    {
     "data": {
      "text/plain": [
       "('Red', 0.6666666666666666)"
      ]
     },
     "execution_count": 10,
     "metadata": {},
     "output_type": "execute_result"
    }
   ],
   "source": [
    "knn(3, trainX, trainY, Xtest)"
   ]
  },
  {
   "cell_type": "markdown",
   "metadata": {},
   "source": [
    "### Problem 3\n",
    "---\n",
    "Model:\n",
    "\n",
    "$$ Y_i = \\beta_1 x_i + e_i $$\n",
    "\n",
    "Given:\n",
    "\n",
    "$$ \\text{E}(e_i) = 0 $$\n",
    "$$ \\text{Var}(e_i) = \\sigma_e^2 $$\n",
    "$$ \\text{Cov}(e_i, e_j) = 0, \\quad \\forall i \\neq j $$"
   ]
  },
  {
   "cell_type": "markdown",
   "metadata": {},
   "source": [
    "#### a) least squares estimation\n",
    "\n",
    "$$ \\hat{Y}_i = \\hat\\beta_1 x_i $$\n",
    "\n",
    "Least squares loss function:\n",
    "\n",
    "$$ \\text{loss}(\\hat\\beta_1) = \\sum_i {\\left(\\hat{Y_i} - Y_i\\right)^2} $$\n",
    "\n",
    "Find \n",
    "$$ \\underset{\\hat\\beta_1}{\\text{argmin}} \\left[\\sum_i {\\left(\\hat\\beta_1 x_i - Y_i\\right)^2} \\right] $$\n",
    "by using\n",
    "$$ \\nabla \\text{loss} = \\vec{0} $$\n",
    "\n",
    "\\begin{align}\n",
    "\\nabla \\text{loss} & = \\frac{d \\text{loss}}{d \\hat\\beta_1} \\\\\n",
    "                   & = \\sum_i \\left[ \\frac{d}{d\\hat\\beta_1} \\left( \\hat\\beta_1 x_i - y_i\\right)^2 \\right] \\\\\n",
    "                   & = 2 \\sum_i{\\hat\\beta_1 x_i^2 - x_i Y_i}\n",
    "\\end{align}\n",
    "\n",
    "setting this to 0 leads to \n",
    "$$ \\hat\\beta_1 = \\frac{\\sum_i {x_i Y_i}}{\\sum_j{x_j^2}} $$"
   ]
  },
  {
   "cell_type": "markdown",
   "metadata": {},
   "source": [
    "#### b) bias\n",
    "\n",
    "Finding the bias amounts to finding the expected value of the estimator $\\hat\\beta_1$\n",
    "\n",
    "\\begin{align}\n",
    "\\mathbb{E}(\\hat\\beta_1) & = \\mathbb{E}\\left[ \\frac{\\sum_i {x_i (\\beta_1 x_i + e_i)}}{\\sum_j{x_j^2}} \\right] \\\\\n",
    "                        & = \\mathbb{E}\\left[ \\frac{\\sum_i {\\beta_1 x_i^2 + \\beta_1 x_i e_i}}{\\sum_j{x_j^2}} \\right] \\\\\n",
    "                        & = \\frac{\\sum_i {\\beta_1 x_i^2 + \\beta_1 x_i \\mathbb{E}( e_i)}}{\\sum_j{x_j^2}}, \\quad \\mathbb{E}(e_i)=0 \\\\\n",
    "                        & = \\frac{\\sum_i {\\beta_1 x_i^2}}{\\sum_j{x_j^2}} \\\\\n",
    "                        & = \\beta_1 \\frac{\\sum_i {x_i^2}}{\\sum_j{x_j^2}} \\\\\n",
    "                        & = \\beta_1\n",
    "\\end{align}\n",
    "\n",
    "so our estimator is unbiased. To me this makes sense, because of you consider the derivation of OLS using matrices, it has the same properties, regardless of the rank of the $\\mathbf{\\beta}$ matrix."
   ]
  },
  {
   "cell_type": "markdown",
   "metadata": {},
   "source": [
    "#### c) variance\n",
    "\n",
    "\\begin{align}\n",
    "\\mathbb{V}(\\hat\\beta_1) & =  \\mathbb{V} \\left[ \\frac{\\sum_i {x_i Y_i}}{\\sum_j {x_j^2}} \\right] \\\\\n",
    "         \\text{let }a_i & = \\frac{x_i}{\\sum_j {x_j^2}} \\\\\n",
    "\\mathbb{V}(\\hat\\beta_1) & =  \\mathbb{V} \\left[ \\sum_i {a_i Y_i} \\right] \n",
    "\\end{align}\n",
    "\n",
    "We know that $ \\mathbb{V}(Y_i) = \\mathbb{V}(\\beta_1 x_i + e_i) = \\mathbb{V}(e_i) = \\sigma^2_e $. From this and the assumption that the errors are uncorrelated, we know that the variance of the sum is the sum of the variance.\n",
    "\n",
    "\\begin{align}\n",
    "\\mathbb{V} \\left[ \\sum_i {a_i Y_i} \\right] & = \\sum_i {\\mathbb{V}\\left( a_i Y_i \\right) } \\\\\n",
    "                                           & = \\sum_i {a_i^2 \\mathbb{V}(Y_i)} \\\\\n",
    "                                           & = \\sum_i {a_i^2 \\sigma^2_e} \\\\\n",
    "                                           & = \\sigma^2_e \\sum_i \\left( \\frac{x_i^2}{\\left[ \\sum_j {x_j^2}\\right]^2} \\right) \\\\\n",
    "                                           & = \\frac{\\sigma^2_e}{\\sum_i {x_i^2}}\n",
    "\\end{align}\n",
    "\n",
    "So our estimator's variance is dependent on the measurement error as well as the sum of the squares of $x$, which means the more points we measure *OR* the larger the magnitude of the $x$s, the smaller the variance. "
   ]
  }
 ],
 "metadata": {
  "kernelspec": {
   "display_name": "Python 3",
   "language": "python",
   "name": "python3"
  },
  "language_info": {
   "codemirror_mode": {
    "name": "ipython",
    "version": 3
   },
   "file_extension": ".py",
   "mimetype": "text/x-python",
   "name": "python",
   "nbconvert_exporter": "python",
   "pygments_lexer": "ipython3",
   "version": "3.7.1"
  }
 },
 "nbformat": 4,
 "nbformat_minor": 2
}
