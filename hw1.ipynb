{
 "cells": [
  {
   "cell_type": "markdown",
   "metadata": {},
   "source": [
    "# Com S 574 - HW 1\n",
    "## Miles Lucas"
   ]
  },
  {
   "cell_type": "code",
   "execution_count": 99,
   "metadata": {},
   "outputs": [
    {
     "data": {
      "text/html": [
       "<script type=\"text/javascript\">window.PlotlyConfig = {MathJaxConfig: 'local'};</script><script type=\"text/javascript\">if (window.MathJax) {MathJax.Hub.Config({SVG: {font: \"STIX-Web\"}});}</script><script>requirejs.config({paths: { 'plotly': ['https://cdn.plot.ly/plotly-latest.min']},});if(!window._Plotly) {require(['plotly'],function(plotly) {window._Plotly=plotly;});}</script>"
      ],
      "text/vnd.plotly.v1+html": [
       "<script type=\"text/javascript\">window.PlotlyConfig = {MathJaxConfig: 'local'};</script><script type=\"text/javascript\">if (window.MathJax) {MathJax.Hub.Config({SVG: {font: \"STIX-Web\"}});}</script><script>requirejs.config({paths: { 'plotly': ['https://cdn.plot.ly/plotly-latest.min']},});if(!window._Plotly) {require(['plotly'],function(plotly) {window._Plotly=plotly;});}</script>"
      ]
     },
     "metadata": {},
     "output_type": "display_data"
    }
   ],
   "source": [
    "# Setup\n",
    "import plotly.offline as plotly\n",
    "import plotly.graph_objs as go\n",
    "import plotly.figure_factory as ff\n",
    "import cufflinks as cf\n",
    "import pandas as pd\n",
    "import numpy as np\n",
    "plotly.init_notebook_mode(connected=True)"
   ]
  },
  {
   "cell_type": "markdown",
   "metadata": {},
   "source": [
    "### Problem 1\n",
    "---\n",
    "\n",
    "Using test point \n",
    "$$ X_1=X_2=X_3=0  $$"
   ]
  },
  {
   "cell_type": "code",
   "execution_count": 91,
   "metadata": {},
   "outputs": [
    {
     "data": {
      "application/vnd.plotly.v1+json": {
       "config": {
        "linkText": "Export to plot.ly",
        "plotlyServerURL": "https://plot.ly",
        "showLink": false
       },
       "data": [
        {
         "colorscale": [
          [
           0,
           "#00083e"
          ],
          [
           0.5,
           "#ededee"
          ],
          [
           1,
           "#ffffff"
          ]
         ],
         "hoverinfo": "none",
         "opacity": 0.75,
         "showscale": false,
         "type": "heatmap",
         "uid": "da25319a-de3e-4bf3-b381-5c28a8428f9b",
         "z": [
          [
           0,
           0,
           0,
           0
          ],
          [
           0.5,
           0.5,
           0.5,
           0.5
          ],
          [
           1,
           1,
           1,
           1
          ],
          [
           0.5,
           0.5,
           0.5,
           0.5
          ],
          [
           1,
           1,
           1,
           1
          ],
          [
           0.5,
           0.5,
           0.5,
           0.5
          ],
          [
           1,
           1,
           1,
           1
          ]
         ]
        }
       ],
       "layout": {
        "annotations": [
         {
          "align": "left",
          "font": {
           "color": "#ffffff"
          },
          "showarrow": false,
          "text": "<b>X1</b>",
          "x": -0.45,
          "xanchor": "left",
          "xref": "x",
          "y": 0,
          "yref": "y"
         },
         {
          "align": "left",
          "font": {
           "color": "#ffffff"
          },
          "showarrow": false,
          "text": "<b>X2</b>",
          "x": 0.55,
          "xanchor": "left",
          "xref": "x",
          "y": 0,
          "yref": "y"
         },
         {
          "align": "left",
          "font": {
           "color": "#ffffff"
          },
          "showarrow": false,
          "text": "<b>X3</b>",
          "x": 1.55,
          "xanchor": "left",
          "xref": "x",
          "y": 0,
          "yref": "y"
         },
         {
          "align": "left",
          "font": {
           "color": "#ffffff"
          },
          "showarrow": false,
          "text": "<b>Y</b>",
          "x": 2.55,
          "xanchor": "left",
          "xref": "x",
          "y": 0,
          "yref": "y"
         },
         {
          "align": "left",
          "font": {
           "color": "#000000"
          },
          "showarrow": false,
          "text": "2",
          "x": -0.45,
          "xanchor": "left",
          "xref": "x",
          "y": 1,
          "yref": "y"
         },
         {
          "align": "left",
          "font": {
           "color": "#000000"
          },
          "showarrow": false,
          "text": "3",
          "x": 0.55,
          "xanchor": "left",
          "xref": "x",
          "y": 1,
          "yref": "y"
         },
         {
          "align": "left",
          "font": {
           "color": "#000000"
          },
          "showarrow": false,
          "text": "0",
          "x": 1.55,
          "xanchor": "left",
          "xref": "x",
          "y": 1,
          "yref": "y"
         },
         {
          "align": "left",
          "font": {
           "color": "#000000"
          },
          "showarrow": false,
          "text": "Red",
          "x": 2.55,
          "xanchor": "left",
          "xref": "x",
          "y": 1,
          "yref": "y"
         },
         {
          "align": "left",
          "font": {
           "color": "#000000"
          },
          "showarrow": false,
          "text": "2",
          "x": -0.45,
          "xanchor": "left",
          "xref": "x",
          "y": 2,
          "yref": "y"
         },
         {
          "align": "left",
          "font": {
           "color": "#000000"
          },
          "showarrow": false,
          "text": "0",
          "x": 0.55,
          "xanchor": "left",
          "xref": "x",
          "y": 2,
          "yref": "y"
         },
         {
          "align": "left",
          "font": {
           "color": "#000000"
          },
          "showarrow": false,
          "text": "1",
          "x": 1.55,
          "xanchor": "left",
          "xref": "x",
          "y": 2,
          "yref": "y"
         },
         {
          "align": "left",
          "font": {
           "color": "#000000"
          },
          "showarrow": false,
          "text": "Red",
          "x": 2.55,
          "xanchor": "left",
          "xref": "x",
          "y": 2,
          "yref": "y"
         },
         {
          "align": "left",
          "font": {
           "color": "#000000"
          },
          "showarrow": false,
          "text": "0",
          "x": -0.45,
          "xanchor": "left",
          "xref": "x",
          "y": 3,
          "yref": "y"
         },
         {
          "align": "left",
          "font": {
           "color": "#000000"
          },
          "showarrow": false,
          "text": "1",
          "x": 0.55,
          "xanchor": "left",
          "xref": "x",
          "y": 3,
          "yref": "y"
         },
         {
          "align": "left",
          "font": {
           "color": "#000000"
          },
          "showarrow": false,
          "text": "3",
          "x": 1.55,
          "xanchor": "left",
          "xref": "x",
          "y": 3,
          "yref": "y"
         },
         {
          "align": "left",
          "font": {
           "color": "#000000"
          },
          "showarrow": false,
          "text": "Red",
          "x": 2.55,
          "xanchor": "left",
          "xref": "x",
          "y": 3,
          "yref": "y"
         },
         {
          "align": "left",
          "font": {
           "color": "#000000"
          },
          "showarrow": false,
          "text": "0",
          "x": -0.45,
          "xanchor": "left",
          "xref": "x",
          "y": 4,
          "yref": "y"
         },
         {
          "align": "left",
          "font": {
           "color": "#000000"
          },
          "showarrow": false,
          "text": "1",
          "x": 0.55,
          "xanchor": "left",
          "xref": "x",
          "y": 4,
          "yref": "y"
         },
         {
          "align": "left",
          "font": {
           "color": "#000000"
          },
          "showarrow": false,
          "text": "2",
          "x": 1.55,
          "xanchor": "left",
          "xref": "x",
          "y": 4,
          "yref": "y"
         },
         {
          "align": "left",
          "font": {
           "color": "#000000"
          },
          "showarrow": false,
          "text": "Green",
          "x": 2.55,
          "xanchor": "left",
          "xref": "x",
          "y": 4,
          "yref": "y"
         },
         {
          "align": "left",
          "font": {
           "color": "#000000"
          },
          "showarrow": false,
          "text": "-1",
          "x": -0.45,
          "xanchor": "left",
          "xref": "x",
          "y": 5,
          "yref": "y"
         },
         {
          "align": "left",
          "font": {
           "color": "#000000"
          },
          "showarrow": false,
          "text": "0",
          "x": 0.55,
          "xanchor": "left",
          "xref": "x",
          "y": 5,
          "yref": "y"
         },
         {
          "align": "left",
          "font": {
           "color": "#000000"
          },
          "showarrow": false,
          "text": "1",
          "x": 1.55,
          "xanchor": "left",
          "xref": "x",
          "y": 5,
          "yref": "y"
         },
         {
          "align": "left",
          "font": {
           "color": "#000000"
          },
          "showarrow": false,
          "text": "Green",
          "x": 2.55,
          "xanchor": "left",
          "xref": "x",
          "y": 5,
          "yref": "y"
         },
         {
          "align": "left",
          "font": {
           "color": "#000000"
          },
          "showarrow": false,
          "text": "1",
          "x": -0.45,
          "xanchor": "left",
          "xref": "x",
          "y": 6,
          "yref": "y"
         },
         {
          "align": "left",
          "font": {
           "color": "#000000"
          },
          "showarrow": false,
          "text": "-1",
          "x": 0.55,
          "xanchor": "left",
          "xref": "x",
          "y": 6,
          "yref": "y"
         },
         {
          "align": "left",
          "font": {
           "color": "#000000"
          },
          "showarrow": false,
          "text": "1",
          "x": 1.55,
          "xanchor": "left",
          "xref": "x",
          "y": 6,
          "yref": "y"
         },
         {
          "align": "left",
          "font": {
           "color": "#000000"
          },
          "showarrow": false,
          "text": "Red",
          "x": 2.55,
          "xanchor": "left",
          "xref": "x",
          "y": 6,
          "yref": "y"
         }
        ],
        "autosize": true,
        "margin": {
         "b": 0,
         "l": 0,
         "r": 0,
         "t": 0
        },
        "xaxis": {
         "autorange": true,
         "dtick": 1,
         "gridwidth": 2,
         "range": [
          -0.5,
          3.5
         ],
         "showticklabels": false,
         "tick0": -0.5,
         "ticks": "",
         "zeroline": false
        },
        "yaxis": {
         "autorange": true,
         "dtick": 1,
         "gridwidth": 2,
         "range": [
          6.5,
          -0.5
         ],
         "showticklabels": false,
         "tick0": 0.5,
         "ticks": "",
         "zeroline": false
        }
       }
      },
      "image/png": "[encoded data removed]"
     },
     "metadata": {},
     "output_type": "display_data"
    }
   ],
   "source": [
    "# Set up Data\n",
    "observations = pd.DataFrame({\n",
    "    'X1': [2, 2, 0, 0, -1, 1], \n",
    "    'X2': [3, 0, 1, 1, 0, -1], \n",
    "    'X3': [0, 1, 3, 2, 1, 1], \n",
    "    'Y': [\"Red\", \"Red\", \"Red\", \"Green\", \"Green\", \"Red\"]\n",
    "})\n",
    "plotly.iplot(ff.create_table(observations))"
   ]
  },
  {
   "cell_type": "code",
   "execution_count": 103,
   "metadata": {},
   "outputs": [
    {
     "data": {
      "application/vnd.plotly.v1+json": {
       "config": {
        "linkText": "Export to plot.ly",
        "plotlyServerURL": "https://plot.ly",
        "showLink": false
       },
       "data": [
        {
         "marker": {
          "color": [
           "red",
           "red",
           "red",
           "green",
           "green",
           "red"
          ],
          "size": 4
         },
         "mode": "markers",
         "type": "scatter3d",
         "uid": "ce6e84b3-9f14-4fa7-a195-b4a9dffb1964",
         "x": [
          2,
          2,
          0,
          0,
          -1,
          1
         ],
         "y": [
          3,
          0,
          1,
          1,
          0,
          -1
         ],
         "z": [
          0,
          1,
          3,
          2,
          1,
          1
         ]
        }
       ],
       "layout": {
        "autosize": true,
        "dragmode": "zoom",
        "scene": {
         "aspectmode": "auto",
         "aspectratio": {
          "x": 0.90856029641607,
          "y": 1.21141372855476,
          "z": 0.90856029641607
         },
         "camera": {
          "center": {
           "x": 0.025226020866693438,
           "y": 0.17896715038341895,
           "z": -0.10505448493894856
          },
          "eye": {
           "x": 1.5717245072669126,
           "y": 0.7657467791348621,
           "z": 0.15151999861243207
          },
          "up": {
           "x": 0,
           "y": 0,
           "z": 1
          }
         },
         "dragmode": "turntable",
         "xaxis": {
          "title": {
           "text": "X1"
          },
          "type": "linear"
         },
         "yaxis": {
          "title": {
           "text": "X2"
          },
          "type": "linear"
         },
         "zaxis": {
          "title": {
           "text": "X3"
          },
          "type": "linear"
         }
        }
       }
      },
      "image/png": "[encoded data removed]",
      "text/html": [
       "<div id=\"7849d407-33ff-49e2-a6c4-a0f91db6be50\" style=\"height: 600px; width: 100%;\" class=\"plotly-graph-div\"></div><script type=\"text/javascript\">require([\"plotly\"], function(Plotly) { window.PLOTLYENV=window.PLOTLYENV || {};window.PLOTLYENV.BASE_URL=\"https://plot.ly\";Plotly.newPlot(\"7849d407-33ff-49e2-a6c4-a0f91db6be50\", [{\"marker\": {\"color\": [\"red\", \"red\", \"red\", \"green\", \"green\", \"red\"], \"size\": 4}, \"mode\": \"markers\", \"x\": [2, 2, 0, 0, -1, 1], \"y\": [3, 0, 1, 1, 0, -1], \"z\": [0, 1, 3, 2, 1, 1], \"type\": \"scatter3d\", \"uid\": \"ce6e84b3-9f14-4fa7-a195-b4a9dffb1964\"}], {\"height\": 600, \"scene\": {\"xaxis\": {\"title\": {\"text\": \"X1\"}}, \"yaxis\": {\"title\": {\"text\": \"X2\"}}, \"zaxis\": {\"title\": {\"text\": \"X3\"}}}}, {\"showLink\": false, \"linkText\": \"Export to plot.ly\", \"plotlyServerURL\": \"https://plot.ly\"})});</script><script type=\"text/javascript\">window.addEventListener(\"resize\", function(){window._Plotly.Plots.resize(document.getElementById(\"7849d407-33ff-49e2-a6c4-a0f91db6be50\"));});</script>"
      ],
      "text/vnd.plotly.v1+html": [
       "<div id=\"7849d407-33ff-49e2-a6c4-a0f91db6be50\" style=\"height: 600px; width: 100%;\" class=\"plotly-graph-div\"></div><script type=\"text/javascript\">require([\"plotly\"], function(Plotly) { window.PLOTLYENV=window.PLOTLYENV || {};window.PLOTLYENV.BASE_URL=\"https://plot.ly\";Plotly.newPlot(\"7849d407-33ff-49e2-a6c4-a0f91db6be50\", [{\"marker\": {\"color\": [\"red\", \"red\", \"red\", \"green\", \"green\", \"red\"], \"size\": 4}, \"mode\": \"markers\", \"x\": [2, 2, 0, 0, -1, 1], \"y\": [3, 0, 1, 1, 0, -1], \"z\": [0, 1, 3, 2, 1, 1], \"type\": \"scatter3d\", \"uid\": \"ce6e84b3-9f14-4fa7-a195-b4a9dffb1964\"}], {\"height\": 600, \"scene\": {\"xaxis\": {\"title\": {\"text\": \"X1\"}}, \"yaxis\": {\"title\": {\"text\": \"X2\"}}, \"zaxis\": {\"title\": {\"text\": \"X3\"}}}}, {\"showLink\": false, \"linkText\": \"Export to plot.ly\", \"plotlyServerURL\": \"https://plot.ly\"})});</script><script type=\"text/javascript\">window.addEventListener(\"resize\", function(){window._Plotly.Plots.resize(document.getElementById(\"7849d407-33ff-49e2-a6c4-a0f91db6be50\"));});</script>"
      ]
     },
     "metadata": {},
     "output_type": "display_data"
    }
   ],
   "source": [
    "trace = go.Scatter3d(\n",
    "    x=observations['X1'], \n",
    "    y=observations['X2'], \n",
    "    z=observations['X3'],\n",
    "    mode='markers',\n",
    "    marker = dict(\n",
    "        size=4,\n",
    "        color=observations['Y'].apply(lambda s: s.lower())\n",
    "    )\n",
    ")\n",
    "layout = go.Layout(\n",
    "    scene=dict(\n",
    "        xaxis=dict(title='X1'),\n",
    "        yaxis=dict(title='X2'),\n",
    "        zaxis=dict(title='X3'),\n",
    "    ),\n",
    "    height=600\n",
    ")\n",
    "fig = go.Figure(data=[trace], layout=layout)\n",
    "plotly.iplot(fig)"
   ]
  },
  {
   "cell_type": "markdown",
   "metadata": {},
   "source": [
    "#### a)\n",
    "The Euclidean distance in cartesian coordinates between 2 points is given using the formula\n",
    "\n",
    "$$ D(\\vec{r}_1, \\vec{r}_2) = \\sqrt{(x_1 - x_2)^2 + (y_1 - y_2)^2 + (z_1 - z_2)^2} $$\n",
    "\n",
    "This is conveniently implemented in the numpy.linalg.norm function\n"
   ]
  },
  {
   "cell_type": "code",
   "execution_count": 37,
   "metadata": {},
   "outputs": [],
   "source": [
    "Xtest = np.zeros(3)"
   ]
  },
  {
   "cell_type": "code",
   "execution_count": 174,
   "metadata": {},
   "outputs": [
    {
     "data": {
      "application/vnd.plotly.v1+json": {
       "config": {
        "linkText": "Export to plot.ly",
        "plotlyServerURL": "https://plot.ly",
        "showLink": false
       },
       "data": [
        {
         "colorscale": [
          [
           0,
           "#00083e"
          ],
          [
           0.5,
           "#ededee"
          ],
          [
           1,
           "#ffffff"
          ]
         ],
         "hoverinfo": "none",
         "opacity": 0.75,
         "showscale": false,
         "type": "heatmap",
         "uid": "41edb234-064f-4eaf-ab23-c9241425e069",
         "z": [
          [
           0,
           0,
           0,
           0,
           0
          ],
          [
           0.5,
           0.5,
           0.5,
           0.5,
           0.5
          ],
          [
           1,
           1,
           1,
           1,
           1
          ],
          [
           0.5,
           0.5,
           0.5,
           0.5,
           0.5
          ],
          [
           1,
           1,
           1,
           1,
           1
          ],
          [
           0.5,
           0.5,
           0.5,
           0.5,
           0.5
          ],
          [
           1,
           1,
           1,
           1,
           1
          ]
         ]
        }
       ],
       "layout": {
        "annotations": [
         {
          "align": "left",
          "font": {
           "color": "#ffffff"
          },
          "showarrow": false,
          "text": "<b>X1</b>",
          "x": -0.45,
          "xanchor": "left",
          "xref": "x",
          "y": 0,
          "yref": "y"
         },
         {
          "align": "left",
          "font": {
           "color": "#ffffff"
          },
          "showarrow": false,
          "text": "<b>X2</b>",
          "x": 0.55,
          "xanchor": "left",
          "xref": "x",
          "y": 0,
          "yref": "y"
         },
         {
          "align": "left",
          "font": {
           "color": "#ffffff"
          },
          "showarrow": false,
          "text": "<b>X3</b>",
          "x": 1.55,
          "xanchor": "left",
          "xref": "x",
          "y": 0,
          "yref": "y"
         },
         {
          "align": "left",
          "font": {
           "color": "#ffffff"
          },
          "showarrow": false,
          "text": "<b>Y</b>",
          "x": 2.55,
          "xanchor": "left",
          "xref": "x",
          "y": 0,
          "yref": "y"
         },
         {
          "align": "left",
          "font": {
           "color": "#ffffff"
          },
          "showarrow": false,
          "text": "<b>dist</b>",
          "x": 3.55,
          "xanchor": "left",
          "xref": "x",
          "y": 0,
          "yref": "y"
         },
         {
          "align": "left",
          "font": {
           "color": "#000000"
          },
          "showarrow": false,
          "text": "2",
          "x": -0.45,
          "xanchor": "left",
          "xref": "x",
          "y": 1,
          "yref": "y"
         },
         {
          "align": "left",
          "font": {
           "color": "#000000"
          },
          "showarrow": false,
          "text": "3",
          "x": 0.55,
          "xanchor": "left",
          "xref": "x",
          "y": 1,
          "yref": "y"
         },
         {
          "align": "left",
          "font": {
           "color": "#000000"
          },
          "showarrow": false,
          "text": "0",
          "x": 1.55,
          "xanchor": "left",
          "xref": "x",
          "y": 1,
          "yref": "y"
         },
         {
          "align": "left",
          "font": {
           "color": "#000000"
          },
          "showarrow": false,
          "text": "Red",
          "x": 2.55,
          "xanchor": "left",
          "xref": "x",
          "y": 1,
          "yref": "y"
         },
         {
          "align": "left",
          "font": {
           "color": "#000000"
          },
          "showarrow": false,
          "text": "3.605551275463989",
          "x": 3.55,
          "xanchor": "left",
          "xref": "x",
          "y": 1,
          "yref": "y"
         },
         {
          "align": "left",
          "font": {
           "color": "#000000"
          },
          "showarrow": false,
          "text": "2",
          "x": -0.45,
          "xanchor": "left",
          "xref": "x",
          "y": 2,
          "yref": "y"
         },
         {
          "align": "left",
          "font": {
           "color": "#000000"
          },
          "showarrow": false,
          "text": "0",
          "x": 0.55,
          "xanchor": "left",
          "xref": "x",
          "y": 2,
          "yref": "y"
         },
         {
          "align": "left",
          "font": {
           "color": "#000000"
          },
          "showarrow": false,
          "text": "1",
          "x": 1.55,
          "xanchor": "left",
          "xref": "x",
          "y": 2,
          "yref": "y"
         },
         {
          "align": "left",
          "font": {
           "color": "#000000"
          },
          "showarrow": false,
          "text": "Red",
          "x": 2.55,
          "xanchor": "left",
          "xref": "x",
          "y": 2,
          "yref": "y"
         },
         {
          "align": "left",
          "font": {
           "color": "#000000"
          },
          "showarrow": false,
          "text": "2.23606797749979",
          "x": 3.55,
          "xanchor": "left",
          "xref": "x",
          "y": 2,
          "yref": "y"
         },
         {
          "align": "left",
          "font": {
           "color": "#000000"
          },
          "showarrow": false,
          "text": "0",
          "x": -0.45,
          "xanchor": "left",
          "xref": "x",
          "y": 3,
          "yref": "y"
         },
         {
          "align": "left",
          "font": {
           "color": "#000000"
          },
          "showarrow": false,
          "text": "1",
          "x": 0.55,
          "xanchor": "left",
          "xref": "x",
          "y": 3,
          "yref": "y"
         },
         {
          "align": "left",
          "font": {
           "color": "#000000"
          },
          "showarrow": false,
          "text": "3",
          "x": 1.55,
          "xanchor": "left",
          "xref": "x",
          "y": 3,
          "yref": "y"
         },
         {
          "align": "left",
          "font": {
           "color": "#000000"
          },
          "showarrow": false,
          "text": "Red",
          "x": 2.55,
          "xanchor": "left",
          "xref": "x",
          "y": 3,
          "yref": "y"
         },
         {
          "align": "left",
          "font": {
           "color": "#000000"
          },
          "showarrow": false,
          "text": "3.1622776601683795",
          "x": 3.55,
          "xanchor": "left",
          "xref": "x",
          "y": 3,
          "yref": "y"
         },
         {
          "align": "left",
          "font": {
           "color": "#000000"
          },
          "showarrow": false,
          "text": "0",
          "x": -0.45,
          "xanchor": "left",
          "xref": "x",
          "y": 4,
          "yref": "y"
         },
         {
          "align": "left",
          "font": {
           "color": "#000000"
          },
          "showarrow": false,
          "text": "1",
          "x": 0.55,
          "xanchor": "left",
          "xref": "x",
          "y": 4,
          "yref": "y"
         },
         {
          "align": "left",
          "font": {
           "color": "#000000"
          },
          "showarrow": false,
          "text": "2",
          "x": 1.55,
          "xanchor": "left",
          "xref": "x",
          "y": 4,
          "yref": "y"
         },
         {
          "align": "left",
          "font": {
           "color": "#000000"
          },
          "showarrow": false,
          "text": "Green",
          "x": 2.55,
          "xanchor": "left",
          "xref": "x",
          "y": 4,
          "yref": "y"
         },
         {
          "align": "left",
          "font": {
           "color": "#000000"
          },
          "showarrow": false,
          "text": "2.23606797749979",
          "x": 3.55,
          "xanchor": "left",
          "xref": "x",
          "y": 4,
          "yref": "y"
         },
         {
          "align": "left",
          "font": {
           "color": "#000000"
          },
          "showarrow": false,
          "text": "-1",
          "x": -0.45,
          "xanchor": "left",
          "xref": "x",
          "y": 5,
          "yref": "y"
         },
         {
          "align": "left",
          "font": {
           "color": "#000000"
          },
          "showarrow": false,
          "text": "0",
          "x": 0.55,
          "xanchor": "left",
          "xref": "x",
          "y": 5,
          "yref": "y"
         },
         {
          "align": "left",
          "font": {
           "color": "#000000"
          },
          "showarrow": false,
          "text": "1",
          "x": 1.55,
          "xanchor": "left",
          "xref": "x",
          "y": 5,
          "yref": "y"
         },
         {
          "align": "left",
          "font": {
           "color": "#000000"
          },
          "showarrow": false,
          "text": "Green",
          "x": 2.55,
          "xanchor": "left",
          "xref": "x",
          "y": 5,
          "yref": "y"
         },
         {
          "align": "left",
          "font": {
           "color": "#000000"
          },
          "showarrow": false,
          "text": "1.4142135623730951",
          "x": 3.55,
          "xanchor": "left",
          "xref": "x",
          "y": 5,
          "yref": "y"
         },
         {
          "align": "left",
          "font": {
           "color": "#000000"
          },
          "showarrow": false,
          "text": "1",
          "x": -0.45,
          "xanchor": "left",
          "xref": "x",
          "y": 6,
          "yref": "y"
         },
         {
          "align": "left",
          "font": {
           "color": "#000000"
          },
          "showarrow": false,
          "text": "-1",
          "x": 0.55,
          "xanchor": "left",
          "xref": "x",
          "y": 6,
          "yref": "y"
         },
         {
          "align": "left",
          "font": {
           "color": "#000000"
          },
          "showarrow": false,
          "text": "1",
          "x": 1.55,
          "xanchor": "left",
          "xref": "x",
          "y": 6,
          "yref": "y"
         },
         {
          "align": "left",
          "font": {
           "color": "#000000"
          },
          "showarrow": false,
          "text": "Red",
          "x": 2.55,
          "xanchor": "left",
          "xref": "x",
          "y": 6,
          "yref": "y"
         },
         {
          "align": "left",
          "font": {
           "color": "#000000"
          },
          "showarrow": false,
          "text": "1.7320508075688772",
          "x": 3.55,
          "xanchor": "left",
          "xref": "x",
          "y": 6,
          "yref": "y"
         }
        ],
        "autosize": true,
        "margin": {
         "b": 0,
         "l": 0,
         "r": 0,
         "t": 0
        },
        "xaxis": {
         "autorange": true,
         "dtick": 1,
         "gridwidth": 2,
         "range": [
          -0.5,
          4.5
         ],
         "showticklabels": false,
         "tick0": -0.5,
         "ticks": "",
         "zeroline": false
        },
        "yaxis": {
         "autorange": true,
         "dtick": 1,
         "gridwidth": 2,
         "range": [
          6.5,
          -0.5
         ],
         "showticklabels": false,
         "tick0": 0.5,
         "ticks": "",
         "zeroline": false
        }
       }
      },
      "image/png": "[encoded data removed]",
      "text/html": [
       "<div id=\"e0458dab-cfea-4e9c-aa85-b3eb736dc23c\" style=\"height: 260px; width: 100%;\" class=\"plotly-graph-div\"></div><script type=\"text/javascript\">require([\"plotly\"], function(Plotly) { window.PLOTLYENV=window.PLOTLYENV || {};window.PLOTLYENV.BASE_URL=\"https://plot.ly\";Plotly.newPlot(\"e0458dab-cfea-4e9c-aa85-b3eb736dc23c\", [{\"colorscale\": [[0, \"#00083e\"], [0.5, \"#ededee\"], [1, \"#ffffff\"]], \"hoverinfo\": \"none\", \"opacity\": 0.75, \"showscale\": false, \"z\": [[0, 0, 0, 0, 0], [0.5, 0.5, 0.5, 0.5, 0.5], [1, 1, 1, 1, 1], [0.5, 0.5, 0.5, 0.5, 0.5], [1, 1, 1, 1, 1], [0.5, 0.5, 0.5, 0.5, 0.5], [1, 1, 1, 1, 1]], \"type\": \"heatmap\", \"uid\": \"41edb234-064f-4eaf-ab23-c9241425e069\"}], {\"annotations\": [{\"align\": \"left\", \"font\": {\"color\": \"#ffffff\"}, \"showarrow\": false, \"text\": \"<b>X1</b>\", \"x\": -0.45, \"xanchor\": \"left\", \"xref\": \"x\", \"y\": 0, \"yref\": \"y\"}, {\"align\": \"left\", \"font\": {\"color\": \"#ffffff\"}, \"showarrow\": false, \"text\": \"<b>X2</b>\", \"x\": 0.55, \"xanchor\": \"left\", \"xref\": \"x\", \"y\": 0, \"yref\": \"y\"}, {\"align\": \"left\", \"font\": {\"color\": \"#ffffff\"}, \"showarrow\": false, \"text\": \"<b>X3</b>\", \"x\": 1.55, \"xanchor\": \"left\", \"xref\": \"x\", \"y\": 0, \"yref\": \"y\"}, {\"align\": \"left\", \"font\": {\"color\": \"#ffffff\"}, \"showarrow\": false, \"text\": \"<b>Y</b>\", \"x\": 2.55, \"xanchor\": \"left\", \"xref\": \"x\", \"y\": 0, \"yref\": \"y\"}, {\"align\": \"left\", \"font\": {\"color\": \"#ffffff\"}, \"showarrow\": false, \"text\": \"<b>dist</b>\", \"x\": 3.55, \"xanchor\": \"left\", \"xref\": \"x\", \"y\": 0, \"yref\": \"y\"}, {\"align\": \"left\", \"font\": {\"color\": \"#000000\"}, \"showarrow\": false, \"text\": \"2\", \"x\": -0.45, \"xanchor\": \"left\", \"xref\": \"x\", \"y\": 1, \"yref\": \"y\"}, {\"align\": \"left\", \"font\": {\"color\": \"#000000\"}, \"showarrow\": false, \"text\": \"3\", \"x\": 0.55, \"xanchor\": \"left\", \"xref\": \"x\", \"y\": 1, \"yref\": \"y\"}, {\"align\": \"left\", \"font\": {\"color\": \"#000000\"}, \"showarrow\": false, \"text\": \"0\", \"x\": 1.55, \"xanchor\": \"left\", \"xref\": \"x\", \"y\": 1, \"yref\": \"y\"}, {\"align\": \"left\", \"font\": {\"color\": \"#000000\"}, \"showarrow\": false, \"text\": \"Red\", \"x\": 2.55, \"xanchor\": \"left\", \"xref\": \"x\", \"y\": 1, \"yref\": \"y\"}, {\"align\": \"left\", \"font\": {\"color\": \"#000000\"}, \"showarrow\": false, \"text\": \"3.605551275463989\", \"x\": 3.55, \"xanchor\": \"left\", \"xref\": \"x\", \"y\": 1, \"yref\": \"y\"}, {\"align\": \"left\", \"font\": {\"color\": \"#000000\"}, \"showarrow\": false, \"text\": \"2\", \"x\": -0.45, \"xanchor\": \"left\", \"xref\": \"x\", \"y\": 2, \"yref\": \"y\"}, {\"align\": \"left\", \"font\": {\"color\": \"#000000\"}, \"showarrow\": false, \"text\": \"0\", \"x\": 0.55, \"xanchor\": \"left\", \"xref\": \"x\", \"y\": 2, \"yref\": \"y\"}, {\"align\": \"left\", \"font\": {\"color\": \"#000000\"}, \"showarrow\": false, \"text\": \"1\", \"x\": 1.55, \"xanchor\": \"left\", \"xref\": \"x\", \"y\": 2, \"yref\": \"y\"}, {\"align\": \"left\", \"font\": {\"color\": \"#000000\"}, \"showarrow\": false, \"text\": \"Red\", \"x\": 2.55, \"xanchor\": \"left\", \"xref\": \"x\", \"y\": 2, \"yref\": \"y\"}, {\"align\": \"left\", \"font\": {\"color\": \"#000000\"}, \"showarrow\": false, \"text\": \"2.23606797749979\", \"x\": 3.55, \"xanchor\": \"left\", \"xref\": \"x\", \"y\": 2, \"yref\": \"y\"}, {\"align\": \"left\", \"font\": {\"color\": \"#000000\"}, \"showarrow\": false, \"text\": \"0\", \"x\": -0.45, \"xanchor\": \"left\", \"xref\": \"x\", \"y\": 3, \"yref\": \"y\"}, {\"align\": \"left\", \"font\": {\"color\": \"#000000\"}, \"showarrow\": false, \"text\": \"1\", \"x\": 0.55, \"xanchor\": \"left\", \"xref\": \"x\", \"y\": 3, \"yref\": \"y\"}, {\"align\": \"left\", \"font\": {\"color\": \"#000000\"}, \"showarrow\": false, \"text\": \"3\", \"x\": 1.55, \"xanchor\": \"left\", \"xref\": \"x\", \"y\": 3, \"yref\": \"y\"}, {\"align\": \"left\", \"font\": {\"color\": \"#000000\"}, \"showarrow\": false, \"text\": \"Red\", \"x\": 2.55, \"xanchor\": \"left\", \"xref\": \"x\", \"y\": 3, \"yref\": \"y\"}, {\"align\": \"left\", \"font\": {\"color\": \"#000000\"}, \"showarrow\": false, \"text\": \"3.1622776601683795\", \"x\": 3.55, \"xanchor\": \"left\", \"xref\": \"x\", \"y\": 3, \"yref\": \"y\"}, {\"align\": \"left\", \"font\": {\"color\": \"#000000\"}, \"showarrow\": false, \"text\": \"0\", \"x\": -0.45, \"xanchor\": \"left\", \"xref\": \"x\", \"y\": 4, \"yref\": \"y\"}, {\"align\": \"left\", \"font\": {\"color\": \"#000000\"}, \"showarrow\": false, \"text\": \"1\", \"x\": 0.55, \"xanchor\": \"left\", \"xref\": \"x\", \"y\": 4, \"yref\": \"y\"}, {\"align\": \"left\", \"font\": {\"color\": \"#000000\"}, \"showarrow\": false, \"text\": \"2\", \"x\": 1.55, \"xanchor\": \"left\", \"xref\": \"x\", \"y\": 4, \"yref\": \"y\"}, {\"align\": \"left\", \"font\": {\"color\": \"#000000\"}, \"showarrow\": false, \"text\": \"Green\", \"x\": 2.55, \"xanchor\": \"left\", \"xref\": \"x\", \"y\": 4, \"yref\": \"y\"}, {\"align\": \"left\", \"font\": {\"color\": \"#000000\"}, \"showarrow\": false, \"text\": \"2.23606797749979\", \"x\": 3.55, \"xanchor\": \"left\", \"xref\": \"x\", \"y\": 4, \"yref\": \"y\"}, {\"align\": \"left\", \"font\": {\"color\": \"#000000\"}, \"showarrow\": false, \"text\": \"-1\", \"x\": -0.45, \"xanchor\": \"left\", \"xref\": \"x\", \"y\": 5, \"yref\": \"y\"}, {\"align\": \"left\", \"font\": {\"color\": \"#000000\"}, \"showarrow\": false, \"text\": \"0\", \"x\": 0.55, \"xanchor\": \"left\", \"xref\": \"x\", \"y\": 5, \"yref\": \"y\"}, {\"align\": \"left\", \"font\": {\"color\": \"#000000\"}, \"showarrow\": false, \"text\": \"1\", \"x\": 1.55, \"xanchor\": \"left\", \"xref\": \"x\", \"y\": 5, \"yref\": \"y\"}, {\"align\": \"left\", \"font\": {\"color\": \"#000000\"}, \"showarrow\": false, \"text\": \"Green\", \"x\": 2.55, \"xanchor\": \"left\", \"xref\": \"x\", \"y\": 5, \"yref\": \"y\"}, {\"align\": \"left\", \"font\": {\"color\": \"#000000\"}, \"showarrow\": false, \"text\": \"1.4142135623730951\", \"x\": 3.55, \"xanchor\": \"left\", \"xref\": \"x\", \"y\": 5, \"yref\": \"y\"}, {\"align\": \"left\", \"font\": {\"color\": \"#000000\"}, \"showarrow\": false, \"text\": \"1\", \"x\": -0.45, \"xanchor\": \"left\", \"xref\": \"x\", \"y\": 6, \"yref\": \"y\"}, {\"align\": \"left\", \"font\": {\"color\": \"#000000\"}, \"showarrow\": false, \"text\": \"-1\", \"x\": 0.55, \"xanchor\": \"left\", \"xref\": \"x\", \"y\": 6, \"yref\": \"y\"}, {\"align\": \"left\", \"font\": {\"color\": \"#000000\"}, \"showarrow\": false, \"text\": \"1\", \"x\": 1.55, \"xanchor\": \"left\", \"xref\": \"x\", \"y\": 6, \"yref\": \"y\"}, {\"align\": \"left\", \"font\": {\"color\": \"#000000\"}, \"showarrow\": false, \"text\": \"Red\", \"x\": 2.55, \"xanchor\": \"left\", \"xref\": \"x\", \"y\": 6, \"yref\": \"y\"}, {\"align\": \"left\", \"font\": {\"color\": \"#000000\"}, \"showarrow\": false, \"text\": \"1.7320508075688772\", \"x\": 3.55, \"xanchor\": \"left\", \"xref\": \"x\", \"y\": 6, \"yref\": \"y\"}], \"height\": 260, \"margin\": {\"b\": 0, \"l\": 0, \"r\": 0, \"t\": 0}, \"xaxis\": {\"dtick\": 1, \"gridwidth\": 2, \"showticklabels\": false, \"tick0\": -0.5, \"ticks\": \"\", \"zeroline\": false}, \"yaxis\": {\"autorange\": \"reversed\", \"dtick\": 1, \"gridwidth\": 2, \"showticklabels\": false, \"tick0\": 0.5, \"ticks\": \"\", \"zeroline\": false}}, {\"showLink\": false, \"linkText\": \"Export to plot.ly\", \"plotlyServerURL\": \"https://plot.ly\"})});</script><script type=\"text/javascript\">window.addEventListener(\"resize\", function(){window._Plotly.Plots.resize(document.getElementById(\"e0458dab-cfea-4e9c-aa85-b3eb736dc23c\"));});</script>"
      ],
      "text/vnd.plotly.v1+html": [
       "<div id=\"e0458dab-cfea-4e9c-aa85-b3eb736dc23c\" style=\"height: 260px; width: 100%;\" class=\"plotly-graph-div\"></div><script type=\"text/javascript\">require([\"plotly\"], function(Plotly) { window.PLOTLYENV=window.PLOTLYENV || {};window.PLOTLYENV.BASE_URL=\"https://plot.ly\";Plotly.newPlot(\"e0458dab-cfea-4e9c-aa85-b3eb736dc23c\", [{\"colorscale\": [[0, \"#00083e\"], [0.5, \"#ededee\"], [1, \"#ffffff\"]], \"hoverinfo\": \"none\", \"opacity\": 0.75, \"showscale\": false, \"z\": [[0, 0, 0, 0, 0], [0.5, 0.5, 0.5, 0.5, 0.5], [1, 1, 1, 1, 1], [0.5, 0.5, 0.5, 0.5, 0.5], [1, 1, 1, 1, 1], [0.5, 0.5, 0.5, 0.5, 0.5], [1, 1, 1, 1, 1]], \"type\": \"heatmap\", \"uid\": \"41edb234-064f-4eaf-ab23-c9241425e069\"}], {\"annotations\": [{\"align\": \"left\", \"font\": {\"color\": \"#ffffff\"}, \"showarrow\": false, \"text\": \"<b>X1</b>\", \"x\": -0.45, \"xanchor\": \"left\", \"xref\": \"x\", \"y\": 0, \"yref\": \"y\"}, {\"align\": \"left\", \"font\": {\"color\": \"#ffffff\"}, \"showarrow\": false, \"text\": \"<b>X2</b>\", \"x\": 0.55, \"xanchor\": \"left\", \"xref\": \"x\", \"y\": 0, \"yref\": \"y\"}, {\"align\": \"left\", \"font\": {\"color\": \"#ffffff\"}, \"showarrow\": false, \"text\": \"<b>X3</b>\", \"x\": 1.55, \"xanchor\": \"left\", \"xref\": \"x\", \"y\": 0, \"yref\": \"y\"}, {\"align\": \"left\", \"font\": {\"color\": \"#ffffff\"}, \"showarrow\": false, \"text\": \"<b>Y</b>\", \"x\": 2.55, \"xanchor\": \"left\", \"xref\": \"x\", \"y\": 0, \"yref\": \"y\"}, {\"align\": \"left\", \"font\": {\"color\": \"#ffffff\"}, \"showarrow\": false, \"text\": \"<b>dist</b>\", \"x\": 3.55, \"xanchor\": \"left\", \"xref\": \"x\", \"y\": 0, \"yref\": \"y\"}, {\"align\": \"left\", \"font\": {\"color\": \"#000000\"}, \"showarrow\": false, \"text\": \"2\", \"x\": -0.45, \"xanchor\": \"left\", \"xref\": \"x\", \"y\": 1, \"yref\": \"y\"}, {\"align\": \"left\", \"font\": {\"color\": \"#000000\"}, \"showarrow\": false, \"text\": \"3\", \"x\": 0.55, \"xanchor\": \"left\", \"xref\": \"x\", \"y\": 1, \"yref\": \"y\"}, {\"align\": \"left\", \"font\": {\"color\": \"#000000\"}, \"showarrow\": false, \"text\": \"0\", \"x\": 1.55, \"xanchor\": \"left\", \"xref\": \"x\", \"y\": 1, \"yref\": \"y\"}, {\"align\": \"left\", \"font\": {\"color\": \"#000000\"}, \"showarrow\": false, \"text\": \"Red\", \"x\": 2.55, \"xanchor\": \"left\", \"xref\": \"x\", \"y\": 1, \"yref\": \"y\"}, {\"align\": \"left\", \"font\": {\"color\": \"#000000\"}, \"showarrow\": false, \"text\": \"3.605551275463989\", \"x\": 3.55, \"xanchor\": \"left\", \"xref\": \"x\", \"y\": 1, \"yref\": \"y\"}, {\"align\": \"left\", \"font\": {\"color\": \"#000000\"}, \"showarrow\": false, \"text\": \"2\", \"x\": -0.45, \"xanchor\": \"left\", \"xref\": \"x\", \"y\": 2, \"yref\": \"y\"}, {\"align\": \"left\", \"font\": {\"color\": \"#000000\"}, \"showarrow\": false, \"text\": \"0\", \"x\": 0.55, \"xanchor\": \"left\", \"xref\": \"x\", \"y\": 2, \"yref\": \"y\"}, {\"align\": \"left\", \"font\": {\"color\": \"#000000\"}, \"showarrow\": false, \"text\": \"1\", \"x\": 1.55, \"xanchor\": \"left\", \"xref\": \"x\", \"y\": 2, \"yref\": \"y\"}, {\"align\": \"left\", \"font\": {\"color\": \"#000000\"}, \"showarrow\": false, \"text\": \"Red\", \"x\": 2.55, \"xanchor\": \"left\", \"xref\": \"x\", \"y\": 2, \"yref\": \"y\"}, {\"align\": \"left\", \"font\": {\"color\": \"#000000\"}, \"showarrow\": false, \"text\": \"2.23606797749979\", \"x\": 3.55, \"xanchor\": \"left\", \"xref\": \"x\", \"y\": 2, \"yref\": \"y\"}, {\"align\": \"left\", \"font\": {\"color\": \"#000000\"}, \"showarrow\": false, \"text\": \"0\", \"x\": -0.45, \"xanchor\": \"left\", \"xref\": \"x\", \"y\": 3, \"yref\": \"y\"}, {\"align\": \"left\", \"font\": {\"color\": \"#000000\"}, \"showarrow\": false, \"text\": \"1\", \"x\": 0.55, \"xanchor\": \"left\", \"xref\": \"x\", \"y\": 3, \"yref\": \"y\"}, {\"align\": \"left\", \"font\": {\"color\": \"#000000\"}, \"showarrow\": false, \"text\": \"3\", \"x\": 1.55, \"xanchor\": \"left\", \"xref\": \"x\", \"y\": 3, \"yref\": \"y\"}, {\"align\": \"left\", \"font\": {\"color\": \"#000000\"}, \"showarrow\": false, \"text\": \"Red\", \"x\": 2.55, \"xanchor\": \"left\", \"xref\": \"x\", \"y\": 3, \"yref\": \"y\"}, {\"align\": \"left\", \"font\": {\"color\": \"#000000\"}, \"showarrow\": false, \"text\": \"3.1622776601683795\", \"x\": 3.55, \"xanchor\": \"left\", \"xref\": \"x\", \"y\": 3, \"yref\": \"y\"}, {\"align\": \"left\", \"font\": {\"color\": \"#000000\"}, \"showarrow\": false, \"text\": \"0\", \"x\": -0.45, \"xanchor\": \"left\", \"xref\": \"x\", \"y\": 4, \"yref\": \"y\"}, {\"align\": \"left\", \"font\": {\"color\": \"#000000\"}, \"showarrow\": false, \"text\": \"1\", \"x\": 0.55, \"xanchor\": \"left\", \"xref\": \"x\", \"y\": 4, \"yref\": \"y\"}, {\"align\": \"left\", \"font\": {\"color\": \"#000000\"}, \"showarrow\": false, \"text\": \"2\", \"x\": 1.55, \"xanchor\": \"left\", \"xref\": \"x\", \"y\": 4, \"yref\": \"y\"}, {\"align\": \"left\", \"font\": {\"color\": \"#000000\"}, \"showarrow\": false, \"text\": \"Green\", \"x\": 2.55, \"xanchor\": \"left\", \"xref\": \"x\", \"y\": 4, \"yref\": \"y\"}, {\"align\": \"left\", \"font\": {\"color\": \"#000000\"}, \"showarrow\": false, \"text\": \"2.23606797749979\", \"x\": 3.55, \"xanchor\": \"left\", \"xref\": \"x\", \"y\": 4, \"yref\": \"y\"}, {\"align\": \"left\", \"font\": {\"color\": \"#000000\"}, \"showarrow\": false, \"text\": \"-1\", \"x\": -0.45, \"xanchor\": \"left\", \"xref\": \"x\", \"y\": 5, \"yref\": \"y\"}, {\"align\": \"left\", \"font\": {\"color\": \"#000000\"}, \"showarrow\": false, \"text\": \"0\", \"x\": 0.55, \"xanchor\": \"left\", \"xref\": \"x\", \"y\": 5, \"yref\": \"y\"}, {\"align\": \"left\", \"font\": {\"color\": \"#000000\"}, \"showarrow\": false, \"text\": \"1\", \"x\": 1.55, \"xanchor\": \"left\", \"xref\": \"x\", \"y\": 5, \"yref\": \"y\"}, {\"align\": \"left\", \"font\": {\"color\": \"#000000\"}, \"showarrow\": false, \"text\": \"Green\", \"x\": 2.55, \"xanchor\": \"left\", \"xref\": \"x\", \"y\": 5, \"yref\": \"y\"}, {\"align\": \"left\", \"font\": {\"color\": \"#000000\"}, \"showarrow\": false, \"text\": \"1.4142135623730951\", \"x\": 3.55, \"xanchor\": \"left\", \"xref\": \"x\", \"y\": 5, \"yref\": \"y\"}, {\"align\": \"left\", \"font\": {\"color\": \"#000000\"}, \"showarrow\": false, \"text\": \"1\", \"x\": -0.45, \"xanchor\": \"left\", \"xref\": \"x\", \"y\": 6, \"yref\": \"y\"}, {\"align\": \"left\", \"font\": {\"color\": \"#000000\"}, \"showarrow\": false, \"text\": \"-1\", \"x\": 0.55, \"xanchor\": \"left\", \"xref\": \"x\", \"y\": 6, \"yref\": \"y\"}, {\"align\": \"left\", \"font\": {\"color\": \"#000000\"}, \"showarrow\": false, \"text\": \"1\", \"x\": 1.55, \"xanchor\": \"left\", \"xref\": \"x\", \"y\": 6, \"yref\": \"y\"}, {\"align\": \"left\", \"font\": {\"color\": \"#000000\"}, \"showarrow\": false, \"text\": \"Red\", \"x\": 2.55, \"xanchor\": \"left\", \"xref\": \"x\", \"y\": 6, \"yref\": \"y\"}, {\"align\": \"left\", \"font\": {\"color\": \"#000000\"}, \"showarrow\": false, \"text\": \"1.7320508075688772\", \"x\": 3.55, \"xanchor\": \"left\", \"xref\": \"x\", \"y\": 6, \"yref\": \"y\"}], \"height\": 260, \"margin\": {\"b\": 0, \"l\": 0, \"r\": 0, \"t\": 0}, \"xaxis\": {\"dtick\": 1, \"gridwidth\": 2, \"showticklabels\": false, \"tick0\": -0.5, \"ticks\": \"\", \"zeroline\": false}, \"yaxis\": {\"autorange\": \"reversed\", \"dtick\": 1, \"gridwidth\": 2, \"showticklabels\": false, \"tick0\": 0.5, \"ticks\": \"\", \"zeroline\": false}}, {\"showLink\": false, \"linkText\": \"Export to plot.ly\", \"plotlyServerURL\": \"https://plot.ly\"})});</script><script type=\"text/javascript\">window.addEventListener(\"resize\", function(){window._Plotly.Plots.resize(document.getElementById(\"e0458dab-cfea-4e9c-aa85-b3eb736dc23c\"));});</script>"
      ]
     },
     "metadata": {},
     "output_type": "display_data"
    }
   ],
   "source": [
    "observations['dist'] = np.linalg.norm(observations[['X1', 'X2', 'X3']]-Xtest, axis=1)\n",
    "plotly.iplot(ff.create_table(observations))"
   ]
  },
  {
   "cell_type": "code",
   "execution_count": 176,
   "metadata": {},
   "outputs": [
    {
     "data": {
      "application/vnd.plotly.v1+json": {
       "config": {
        "linkText": "Export to plot.ly",
        "plotlyServerURL": "https://plot.ly",
        "showLink": false
       },
       "data": [
        {
         "marker": {
          "color": [
           "green",
           "red",
           "red",
           "green",
           "red",
           "red"
          ],
          "size": 10
         },
         "mode": "markers",
         "selectedpoints": [
          0,
          1,
          2,
          3,
          4,
          5
         ],
         "type": "scatter",
         "uid": "a4a1dd33-bdfb-44ec-8ca5-4eb5869d3425",
         "y": [
          1.4142135623730951,
          1.7320508075688772,
          2.23606797749979,
          2.23606797749979,
          3.1622776601683795,
          3.605551275463989
         ]
        }
       ],
       "layout": {
        "autosize": true,
        "dragmode": "zoom",
        "xaxis": {
         "autorange": false,
         "range": [
          -0.2656305401252794,
          5.431095615175511
         ]
        },
        "yaxis": {
         "autorange": false,
         "range": [
          -0.27612919134664216,
          4.136523494932149
         ],
         "title": {
          "text": "Euclidean Distance"
         },
         "type": "linear"
        }
       }
      },
      "image/png": "[encoded data removed]",
      "text/html": [
       "<div id=\"297fcadb-b9d6-475a-bfc2-bd8ba7e073fe\" style=\"height: 600px; width: 100%;\" class=\"plotly-graph-div\"></div><script type=\"text/javascript\">require([\"plotly\"], function(Plotly) { window.PLOTLYENV=window.PLOTLYENV || {};window.PLOTLYENV.BASE_URL=\"https://plot.ly\";Plotly.newPlot(\"297fcadb-b9d6-475a-bfc2-bd8ba7e073fe\", [{\"marker\": {\"color\": [\"green\", \"red\", \"red\", \"green\", \"red\", \"red\"], \"size\": 10}, \"mode\": \"markers\", \"y\": [1.4142135623730951, 1.7320508075688772, 2.23606797749979, 2.23606797749979, 3.1622776601683795, 3.605551275463989], \"type\": \"scatter\", \"uid\": \"a4a1dd33-bdfb-44ec-8ca5-4eb5869d3425\"}], {\"height\": 600, \"yaxis\": {\"title\": {\"text\": \"Euclidean Distance\"}}}, {\"showLink\": false, \"linkText\": \"Export to plot.ly\", \"plotlyServerURL\": \"https://plot.ly\"})});</script><script type=\"text/javascript\">window.addEventListener(\"resize\", function(){window._Plotly.Plots.resize(document.getElementById(\"297fcadb-b9d6-475a-bfc2-bd8ba7e073fe\"));});</script>"
      ],
      "text/vnd.plotly.v1+html": [
       "<div id=\"297fcadb-b9d6-475a-bfc2-bd8ba7e073fe\" style=\"height: 600px; width: 100%;\" class=\"plotly-graph-div\"></div><script type=\"text/javascript\">require([\"plotly\"], function(Plotly) { window.PLOTLYENV=window.PLOTLYENV || {};window.PLOTLYENV.BASE_URL=\"https://plot.ly\";Plotly.newPlot(\"297fcadb-b9d6-475a-bfc2-bd8ba7e073fe\", [{\"marker\": {\"color\": [\"green\", \"red\", \"red\", \"green\", \"red\", \"red\"], \"size\": 10}, \"mode\": \"markers\", \"y\": [1.4142135623730951, 1.7320508075688772, 2.23606797749979, 2.23606797749979, 3.1622776601683795, 3.605551275463989], \"type\": \"scatter\", \"uid\": \"a4a1dd33-bdfb-44ec-8ca5-4eb5869d3425\"}], {\"height\": 600, \"yaxis\": {\"title\": {\"text\": \"Euclidean Distance\"}}}, {\"showLink\": false, \"linkText\": \"Export to plot.ly\", \"plotlyServerURL\": \"https://plot.ly\"})});</script><script type=\"text/javascript\">window.addEventListener(\"resize\", function(){window._Plotly.Plots.resize(document.getElementById(\"297fcadb-b9d6-475a-bfc2-bd8ba7e073fe\"));});</script>"
      ]
     },
     "metadata": {},
     "output_type": "display_data"
    }
   ],
   "source": [
    "sorted_obs = observations.sort_values('dist')\n",
    "trace = go.Scatter(\n",
    "    y=sorted_obs['dist'],\n",
    "    mode='markers',\n",
    "    marker = dict(\n",
    "        size=10,\n",
    "        color=sorted_obs['Y'].apply(lambda s: s.lower())\n",
    "    ),\n",
    ")\n",
    "layout = go.Layout(\n",
    "    yaxis = dict(\n",
    "        title='Euclidean Distance'\n",
    "    ),\n",
    "    height=600\n",
    ")\n",
    "fig = go.Figure([trace], layout)\n",
    "plotly.iplot(fig)"
   ]
  },
  {
   "cell_type": "markdown",
   "metadata": {},
   "source": [
    "#### b) \n",
    "To make estimates, I will look at what observation the nearest point had- `Green`. So I would predict that my test point would observe `Green`\n",
    "\n",
    "#### c)\n",
    "Similarly, the closest 3 points are `[Green, Red, Red/Green]`. There is a tie in the 3rd closest point, (observations 2 and 4). For a tie-breaker, I will choose whichever one shows up first in the sorting according to python, which is `Red`. Therefore, there is $\\frac13$ chance of the test point being `Green`, and $\\frac23$ chance of being `Red`, so I would predict `Red`\n",
    "\n",
    "#### d)\n",
    "If the Bayes decision boundary is highly non-linear, we should expect the best-fit $K$ to be small. If we use too large of $K$ our boundary estimator won't be flexible enough to handle the non-linearities of the true conditional distribution. However, if we choose too small of $K$ our boundary might over-fit and lead to a large testing error."
   ]
  },
  {
   "cell_type": "markdown",
   "metadata": {},
   "source": [
    "### Problem 2: KNN Implementation (Python)\n",
    "---\n",
    "The K nearest neighbors creates a conditional probability distribution given the $K$ nearest points to a test point. In our instance, we have calculated the Euclidian distance from the test point, so we can find the nearest neighbors by getting the first $K$ points from the sorted dataframe. The probabilities end up looking like\n",
    "\n",
    "$$ P(Y=j | X=x_0) = \\frac1K \\sum_{i\\in{N_0}}{I(y_i=j)} $$\n",
    "\n",
    "where $N_0$ is the subset of nearest neighbors in the observation set and $j$ are the possible classes\n",
    "\n",
    "$$ j \\in \\{\\text{\"Red\"}, \\text{\"Green\"} \\} $$"
   ]
  },
  {
   "cell_type": "code",
   "execution_count": 77,
   "metadata": {},
   "outputs": [],
   "source": [
    "trainX = observations[['X1', 'X2', 'X3']].values\n",
    "trainY = observations['Y'].values"
   ]
  },
  {
   "cell_type": "code",
   "execution_count": 116,
   "metadata": {},
   "outputs": [],
   "source": [
    "def knn(k, trainx, trainy, testx):\n",
    "    \"\"\"\n",
    "    KNN algorithm\n",
    "\n",
    "    Parameters\n",
    "    ----------\n",
    "    k : int\n",
    "        the number of neighbors to consider\n",
    "    trainx : array_like\n",
    "        the training sets of independent variables\n",
    "    trainy : array_like\n",
    "        the training set of observations\n",
    "    testx : array_like\n",
    "        the testing set of independent variables\n",
    "\n",
    "    Returns\n",
    "    -------\n",
    "    category, probability : tuple\n",
    "        The predicted category and its corresponding probability\n",
    "\n",
    "    Note\n",
    "    ----\n",
    "    There is no real tie-breaking here.\n",
    "    \"\"\"\n",
    "    dist = np.sqrt(np.linalg.norm(trainx - testx, axis=1))\n",
    "    sorted_obs = trainy[np.argsort(dist)]\n",
    "    neighbors = sorted_obs[:k]\n",
    "    probs = {}\n",
    "    for category in np.unique(neighbors):\n",
    "        probs[category] = np.sum(neighbors == category) / len(neighbors)\n",
    "    predicted = max(probs, key=probs.get)\n",
    "    predicted_prob = probs[predicted]\n",
    "    return predicted, predicted_prob"
   ]
  },
  {
   "cell_type": "markdown",
   "metadata": {},
   "source": [
    "#### b)\n",
    "\n",
    "Check if KNN with $K$=1 and 3 matches my predictions from problem 1."
   ]
  },
  {
   "cell_type": "code",
   "execution_count": 114,
   "metadata": {},
   "outputs": [
    {
     "data": {
      "text/plain": [
       "('Green', 1.0)"
      ]
     },
     "execution_count": 114,
     "metadata": {},
     "output_type": "execute_result"
    }
   ],
   "source": [
    "knn(1, trainX, trainY, Xtest)"
   ]
  },
  {
   "cell_type": "code",
   "execution_count": 115,
   "metadata": {},
   "outputs": [
    {
     "data": {
      "text/plain": [
       "('Red', 0.6666666666666666)"
      ]
     },
     "execution_count": 115,
     "metadata": {},
     "output_type": "execute_result"
    }
   ],
   "source": [
    "knn(3, trainX, trainY, Xtest)"
   ]
  },
  {
   "cell_type": "markdown",
   "metadata": {},
   "source": [
    "### Problem 3\n",
    "---\n",
    "Model:\n",
    "\n",
    "$$ Y_i = \\beta_1 x_i + e_i $$\n",
    "\n",
    "Given:\n",
    "\n",
    "$$ \\text{E}(e_i) = 0 $$\n",
    "$$ \\text{Var}(e_i) = \\sigma_e^2 $$\n",
    "$$ \\text{Cov}(e_i, e_j) = 0, \\quad \\forall i \\neq j $$"
   ]
  },
  {
   "cell_type": "markdown",
   "metadata": {},
   "source": [
    "#### a) least squares estimation\n",
    "\n",
    "$$ \\hat{Y}_i = \\hat\\beta_1 x_i $$\n",
    "\n",
    "Least squares loss function:\n",
    "\n",
    "$$ \\text{loss}(\\hat\\beta_1) = \\sum_i {\\left(\\hat{Y_i} - Y_i\\right)^2} $$\n",
    "\n",
    "Find \n",
    "$$ \\underset{\\hat\\beta_1}{\\text{argmin}} \\left[\\sum_i {\\left(\\hat\\beta_1 x_i - Y_i\\right)^2} \\right] $$\n",
    "by using\n",
    "$$ \\nabla \\text{loss} = \\vec{0} $$\n",
    "\n",
    "\\begin{align}\n",
    "\\nabla \\text{loss} & = \\frac{d \\text{loss}}{d \\hat\\beta_1} \\\\\n",
    "                   & = \\sum_i \\left[ \\frac{d}{d\\hat\\beta_1} \\left( \\hat\\beta_1 x_i - y_i\\right)^2 \\right] \\\\\n",
    "                   & = 2 \\sum_i{\\hat\\beta_1 x_i^2 - x_i Y_i}\n",
    "\\end{align}\n",
    "\n",
    "setting this to 0 leads to \n",
    "$$ \\hat\\beta_1 = \\frac{\\sum_i {x_i Y_i}}{\\sum_j{x_j^2}} $$"
   ]
  },
  {
   "cell_type": "markdown",
   "metadata": {},
   "source": [
    "#### b) bias\n",
    "\n",
    "Finding the bias amounts to finding the expected value of the estimator $\\hat\\beta_1$\n",
    "\n",
    "\\begin{align}\n",
    "\\mathbb{E}(\\hat\\beta_1) & = \\mathbb{E}\\left[ \\frac{\\sum_i {x_i (\\beta_1 x_i + e_i)}}{\\sum_j{x_j^2}} \\right] \\\\\n",
    "                        & = \\mathbb{E}\\left[ \\frac{\\sum_i {\\beta_1 x_i^2 + \\beta_1 x_i e_i}}{\\sum_j{x_j^2}} \\right] \\\\\n",
    "                        & = \\frac{\\sum_i {\\beta_1 x_i^2 + \\beta_1 x_i \\mathbb{E}( e_i)}}{\\sum_j{x_j^2}}, \\quad \\mathbb{E}(e_i)=0 \\\\\n",
    "                        & = \\frac{\\sum_i {\\beta_1 x_i^2}}{\\sum_j{x_j^2}} \\\\\n",
    "                        & = \\beta_1 \\frac{\\sum_i {x_i^2}}{\\sum_j{x_j^2}} \\\\\n",
    "                        & = \\beta_1\n",
    "\\end{align}\n",
    "\n",
    "so our estimator is unbiased. To me this makes sense, because of you consider the derivation of OLS using matrices, it has the same properties, regardless of the rank of the $\\mathbf{\\beta}$ matrix."
   ]
  },
  {
   "cell_type": "markdown",
   "metadata": {},
   "source": [
    "#### c) variance\n",
    "\n",
    "\\begin{align}\n",
    "\\mathbb{V}(\\hat\\beta_1) & =  \n",
    "\\end{align}"
   ]
  },
  {
   "cell_type": "code",
   "execution_count": 171,
   "metadata": {},
   "outputs": [],
   "source": [
    "x = np.linspace(1, 100, 100)\n",
    "y = 4 * x + 20*np.random.randn(100)\n",
    "\n",
    "beta = (x @ y)/(x @ x)\n",
    "y_pred = beta * x"
   ]
  },
  {
   "cell_type": "code",
   "execution_count": 172,
   "metadata": {},
   "outputs": [
    {
     "data": {
      "application/vnd.plotly.v1+json": {
       "config": {
        "linkText": "Export to plot.ly",
        "plotlyServerURL": "https://plot.ly",
        "showLink": false
       },
       "data": [
        {
         "mode": "markers",
         "name": "Data",
         "type": "scatter",
         "uid": "54c60fd4-1d0d-4041-9bfb-ce639e8f9da5",
         "x": [
          1,
          2,
          3,
          4,
          5,
          6,
          7,
          8,
          9,
          10,
          11,
          12,
          13,
          14,
          15,
          16,
          17,
          18,
          19,
          20,
          21,
          22,
          23,
          24,
          25,
          26,
          27,
          28,
          29,
          30,
          31,
          32,
          33,
          34,
          35,
          36,
          37,
          38,
          39,
          40,
          41,
          42,
          43,
          44,
          45,
          46,
          47,
          48,
          49,
          50,
          51,
          52,
          53,
          54,
          55,
          56,
          57,
          58,
          59,
          60,
          61,
          62,
          63,
          64,
          65,
          66,
          67,
          68,
          69,
          70,
          71,
          72,
          73,
          74,
          75,
          76,
          77,
          78,
          79,
          80,
          81,
          82,
          83,
          84,
          85,
          86,
          87,
          88,
          89,
          90,
          91,
          92,
          93,
          94,
          95,
          96,
          97,
          98,
          99,
          100
         ],
         "y": [
          -18.991502371651848,
          -5.668688721910208,
          23.837990051446532,
          4.2691762746771715,
          20.59989599570655,
          5.979170361459751,
          36.95673237327556,
          46.820733786112925,
          49.26112483664461,
          43.62666561970917,
          64.30583679786182,
          64.07487324725386,
          61.56664977779275,
          50.630164563834,
          92.03076298538481,
          36.1901404687582,
          73.1060203676156,
          55.02628280835529,
          65.02623847498683,
          88.39721895205761,
          103.1553469287517,
          120.56896027985593,
          87.37496776647616,
          143.38922662728783,
          95.28884060183636,
          103.74744197970195,
          122.50349800279906,
          122.49136806547662,
          100.5820976429347,
          105.24050210304723,
          154.15245964258006,
          149.11792990071388,
          149.72033115834526,
          154.53939618233616,
          143.3206202100218,
          162.65740381757595,
          143.93070073493917,
          166.71454162331207,
          159.9400847454287,
          141.7306983714924,
          160.39374703836495,
          201.6371471277597,
          169.88841864314585,
          140.1114469270088,
          184.68287897191357,
          167.23720341402898,
          176.2736344089925,
          159.6482721170623,
          229.77757295685808,
          175.55800606941665,
          225.71494500323894,
          196.83203579329341,
          201.48760843542118,
          195.9886641035763,
          236.9205937270599,
          221.27127637857583,
          216.1928712955881,
          220.42330521137748,
          243.7023639827077,
          217.36512008201905,
          219.27373245407577,
          263.835682031497,
          272.785531572116,
          234.880261366596,
          259.1732856396435,
          266.9406637234051,
          252.46603813824325,
          293.24006539150497,
          264.1240801097519,
          287.6135639199995,
          255.40552131945805,
          277.35798064162157,
          274.75768935319985,
          275.7216612313254,
          314.12052624270376,
          306.39392620829784,
          316.1989591491658,
          310.29308241257553,
          336.46997724104364,
          328.73828365104174,
          336.253725981935,
          327.60444006237367,
          325.5668502214455,
          307.4206104679447,
          365.1407474227257,
          355.76843356989184,
          379.05860450739664,
          374.67921176367,
          358.9900347090843,
          371.1588829905876,
          368.33180613537803,
          362.8780038530578,
          366.8907546202584,
          378.63048879539986,
          378.24869685403144,
          392.5415723161283,
          409.81621931904795,
          398.6245870005806,
          367.2918475890872,
          407.2771075243512
         ]
        },
        {
         "name": "Predicted",
         "type": "scatter",
         "uid": "1aa050d7-6321-45e0-a40b-191e5d05f3db",
         "x": [
          1,
          2,
          3,
          4,
          5,
          6,
          7,
          8,
          9,
          10,
          11,
          12,
          13,
          14,
          15,
          16,
          17,
          18,
          19,
          20,
          21,
          22,
          23,
          24,
          25,
          26,
          27,
          28,
          29,
          30,
          31,
          32,
          33,
          34,
          35,
          36,
          37,
          38,
          39,
          40,
          41,
          42,
          43,
          44,
          45,
          46,
          47,
          48,
          49,
          50,
          51,
          52,
          53,
          54,
          55,
          56,
          57,
          58,
          59,
          60,
          61,
          62,
          63,
          64,
          65,
          66,
          67,
          68,
          69,
          70,
          71,
          72,
          73,
          74,
          75,
          76,
          77,
          78,
          79,
          80,
          81,
          82,
          83,
          84,
          85,
          86,
          87,
          88,
          89,
          90,
          91,
          92,
          93,
          94,
          95,
          96,
          97,
          98,
          99,
          100
         ],
         "y": [
          4.020070047141566,
          8.040140094283132,
          12.060210141424697,
          16.080280188566263,
          20.10035023570783,
          24.120420282849395,
          28.14049032999096,
          32.160560377132526,
          36.18063042427409,
          40.20070047141566,
          44.220770518557224,
          48.24084056569879,
          52.260910612840355,
          56.28098065998192,
          60.30105070712349,
          64.32112075426505,
          68.34119080140661,
          72.36126084854818,
          76.38133089568976,
          80.40140094283132,
          84.42147098997287,
          88.44154103711445,
          92.46161108425602,
          96.48168113139758,
          100.50175117853914,
          104.52182122568071,
          108.54189127282228,
          112.56196131996384,
          116.5820313671054,
          120.60210141424697,
          124.62217146138855,
          128.6422415085301,
          132.66231155567166,
          136.68238160281322,
          140.7024516499548,
          144.72252169709637,
          148.74259174423793,
          152.76266179137951,
          156.78273183852107,
          160.80280188566263,
          164.8228719328042,
          168.84294197994575,
          172.86301202708734,
          176.8830820742289,
          180.90315212137045,
          184.92322216851204,
          188.9432922156536,
          192.96336226279516,
          196.98343230993672,
          201.00350235707828,
          205.02357240421986,
          209.04364245136142,
          213.06371249850298,
          217.08378254564457,
          221.10385259278613,
          225.12392263992768,
          229.14399268706924,
          233.1640627342108,
          237.1841327813524,
          241.20420282849395,
          245.2242728756355,
          249.2443429227771,
          253.26441296991865,
          257.2844830170602,
          261.3045530642018,
          265.3246231113433,
          269.3446931584849,
          273.36476320562645,
          277.38483325276803,
          281.4049032999096,
          285.42497334705115,
          289.44504339419274,
          293.4651134413343,
          297.48518348847585,
          301.50525353561744,
          305.52532358275903,
          309.54539362990056,
          313.56546367704215,
          317.5855337241837,
          321.60560377132526,
          325.62567381846685,
          329.6457438656084,
          333.66581391274997,
          337.6858839598915,
          341.7059540070331,
          345.7260240541747,
          349.7460941013162,
          353.7661641484578,
          357.7862341955994,
          361.8063042427409,
          365.8263742898825,
          369.8464443370241,
          373.8665143841656,
          377.8865844313072,
          381.90665447844873,
          385.9267245255903,
          389.9467945727319,
          393.96686461987343,
          397.986934667015,
          402.00700471415655
         ]
        }
       ],
       "layout": {
        "autosize": true,
        "showlegend": true,
        "xaxis": {
         "autorange": true,
         "range": [
          -5.0122950819672125,
          106.01229508196721
         ],
         "type": "linear"
        },
        "yaxis": {
         "autorange": true,
         "range": [
          -46.56930036184818,
          437.3940173092443
         ],
         "type": "linear"
        }
       }
      },
      "image/png": "[encoded data removed]",
      "text/html": [
       "<div id=\"f3200e51-e195-4f6c-8acf-c7c5cea93035\" style=\"height: 700px; width: 100%;\" class=\"plotly-graph-div\"></div><script type=\"text/javascript\">require([\"plotly\"], function(Plotly) { window.PLOTLYENV=window.PLOTLYENV || {};window.PLOTLYENV.BASE_URL=\"https://plot.ly\";Plotly.newPlot(\"f3200e51-e195-4f6c-8acf-c7c5cea93035\", [{\"mode\": \"markers\", \"name\": \"Data\", \"x\": [1.0, 2.0, 3.0, 4.0, 5.0, 6.0, 7.0, 8.0, 9.0, 10.0, 11.0, 12.0, 13.0, 14.0, 15.0, 16.0, 17.0, 18.0, 19.0, 20.0, 21.0, 22.0, 23.0, 24.0, 25.0, 26.0, 27.0, 28.0, 29.0, 30.0, 31.0, 32.0, 33.0, 34.0, 35.0, 36.0, 37.0, 38.0, 39.0, 40.0, 41.0, 42.0, 43.0, 44.0, 45.0, 46.0, 47.0, 48.0, 49.0, 50.0, 51.0, 52.0, 53.0, 54.0, 55.0, 56.0, 57.0, 58.0, 59.0, 60.0, 61.0, 62.0, 63.0, 64.0, 65.0, 66.0, 67.0, 68.0, 69.0, 70.0, 71.0, 72.0, 73.0, 74.0, 75.0, 76.0, 77.0, 78.0, 79.0, 80.0, 81.0, 82.0, 83.0, 84.0, 85.0, 86.0, 87.0, 88.0, 89.0, 90.0, 91.0, 92.0, 93.0, 94.0, 95.0, 96.0, 97.0, 98.0, 99.0, 100.0], \"y\": [-18.991502371651848, -5.668688721910208, 23.837990051446532, 4.2691762746771715, 20.59989599570655, 5.979170361459751, 36.95673237327556, 46.820733786112925, 49.26112483664461, 43.62666561970917, 64.30583679786182, 64.07487324725386, 61.56664977779275, 50.630164563834, 92.03076298538481, 36.1901404687582, 73.1060203676156, 55.02628280835529, 65.02623847498683, 88.39721895205761, 103.1553469287517, 120.56896027985593, 87.37496776647616, 143.38922662728783, 95.28884060183636, 103.74744197970195, 122.50349800279906, 122.49136806547662, 100.5820976429347, 105.24050210304723, 154.15245964258006, 149.11792990071388, 149.72033115834526, 154.53939618233616, 143.3206202100218, 162.65740381757595, 143.93070073493917, 166.71454162331207, 159.9400847454287, 141.7306983714924, 160.39374703836495, 201.6371471277597, 169.88841864314585, 140.1114469270088, 184.68287897191357, 167.23720341402898, 176.2736344089925, 159.6482721170623, 229.77757295685808, 175.55800606941665, 225.71494500323894, 196.83203579329341, 201.48760843542118, 195.9886641035763, 236.9205937270599, 221.27127637857583, 216.1928712955881, 220.42330521137748, 243.7023639827077, 217.36512008201905, 219.27373245407577, 263.835682031497, 272.785531572116, 234.880261366596, 259.1732856396435, 266.9406637234051, 252.46603813824325, 293.24006539150497, 264.1240801097519, 287.6135639199995, 255.40552131945805, 277.35798064162157, 274.75768935319985, 275.7216612313254, 314.12052624270376, 306.39392620829784, 316.1989591491658, 310.29308241257553, 336.46997724104364, 328.73828365104174, 336.253725981935, 327.60444006237367, 325.5668502214455, 307.4206104679447, 365.1407474227257, 355.76843356989184, 379.05860450739664, 374.67921176367, 358.9900347090843, 371.1588829905876, 368.33180613537803, 362.8780038530578, 366.8907546202584, 378.63048879539986, 378.24869685403144, 392.5415723161283, 409.81621931904795, 398.6245870005806, 367.2918475890872, 407.2771075243512], \"type\": \"scatter\", \"uid\": \"54c60fd4-1d0d-4041-9bfb-ce639e8f9da5\"}, {\"name\": \"Predicted\", \"x\": [1.0, 2.0, 3.0, 4.0, 5.0, 6.0, 7.0, 8.0, 9.0, 10.0, 11.0, 12.0, 13.0, 14.0, 15.0, 16.0, 17.0, 18.0, 19.0, 20.0, 21.0, 22.0, 23.0, 24.0, 25.0, 26.0, 27.0, 28.0, 29.0, 30.0, 31.0, 32.0, 33.0, 34.0, 35.0, 36.0, 37.0, 38.0, 39.0, 40.0, 41.0, 42.0, 43.0, 44.0, 45.0, 46.0, 47.0, 48.0, 49.0, 50.0, 51.0, 52.0, 53.0, 54.0, 55.0, 56.0, 57.0, 58.0, 59.0, 60.0, 61.0, 62.0, 63.0, 64.0, 65.0, 66.0, 67.0, 68.0, 69.0, 70.0, 71.0, 72.0, 73.0, 74.0, 75.0, 76.0, 77.0, 78.0, 79.0, 80.0, 81.0, 82.0, 83.0, 84.0, 85.0, 86.0, 87.0, 88.0, 89.0, 90.0, 91.0, 92.0, 93.0, 94.0, 95.0, 96.0, 97.0, 98.0, 99.0, 100.0], \"y\": [4.020070047141566, 8.040140094283132, 12.060210141424697, 16.080280188566263, 20.10035023570783, 24.120420282849395, 28.14049032999096, 32.160560377132526, 36.18063042427409, 40.20070047141566, 44.220770518557224, 48.24084056569879, 52.260910612840355, 56.28098065998192, 60.30105070712349, 64.32112075426505, 68.34119080140661, 72.36126084854818, 76.38133089568976, 80.40140094283132, 84.42147098997287, 88.44154103711445, 92.46161108425602, 96.48168113139758, 100.50175117853914, 104.52182122568071, 108.54189127282228, 112.56196131996384, 116.5820313671054, 120.60210141424697, 124.62217146138855, 128.6422415085301, 132.66231155567166, 136.68238160281322, 140.7024516499548, 144.72252169709637, 148.74259174423793, 152.76266179137951, 156.78273183852107, 160.80280188566263, 164.8228719328042, 168.84294197994575, 172.86301202708734, 176.8830820742289, 180.90315212137045, 184.92322216851204, 188.9432922156536, 192.96336226279516, 196.98343230993672, 201.00350235707828, 205.02357240421986, 209.04364245136142, 213.06371249850298, 217.08378254564457, 221.10385259278613, 225.12392263992768, 229.14399268706924, 233.1640627342108, 237.1841327813524, 241.20420282849395, 245.2242728756355, 249.2443429227771, 253.26441296991865, 257.2844830170602, 261.3045530642018, 265.3246231113433, 269.3446931584849, 273.36476320562645, 277.38483325276803, 281.4049032999096, 285.42497334705115, 289.44504339419274, 293.4651134413343, 297.48518348847585, 301.50525353561744, 305.52532358275903, 309.54539362990056, 313.56546367704215, 317.5855337241837, 321.60560377132526, 325.62567381846685, 329.6457438656084, 333.66581391274997, 337.6858839598915, 341.7059540070331, 345.7260240541747, 349.7460941013162, 353.7661641484578, 357.7862341955994, 361.8063042427409, 365.8263742898825, 369.8464443370241, 373.8665143841656, 377.8865844313072, 381.90665447844873, 385.9267245255903, 389.9467945727319, 393.96686461987343, 397.986934667015, 402.00700471415655], \"type\": \"scatter\", \"uid\": \"1aa050d7-6321-45e0-a40b-191e5d05f3db\"}], {\"height\": 700, \"showlegend\": true}, {\"showLink\": false, \"linkText\": \"Export to plot.ly\", \"plotlyServerURL\": \"https://plot.ly\"})});</script><script type=\"text/javascript\">window.addEventListener(\"resize\", function(){window._Plotly.Plots.resize(document.getElementById(\"f3200e51-e195-4f6c-8acf-c7c5cea93035\"));});</script>"
      ],
      "text/vnd.plotly.v1+html": [
       "<div id=\"f3200e51-e195-4f6c-8acf-c7c5cea93035\" style=\"height: 700px; width: 100%;\" class=\"plotly-graph-div\"></div><script type=\"text/javascript\">require([\"plotly\"], function(Plotly) { window.PLOTLYENV=window.PLOTLYENV || {};window.PLOTLYENV.BASE_URL=\"https://plot.ly\";Plotly.newPlot(\"f3200e51-e195-4f6c-8acf-c7c5cea93035\", [{\"mode\": \"markers\", \"name\": \"Data\", \"x\": [1.0, 2.0, 3.0, 4.0, 5.0, 6.0, 7.0, 8.0, 9.0, 10.0, 11.0, 12.0, 13.0, 14.0, 15.0, 16.0, 17.0, 18.0, 19.0, 20.0, 21.0, 22.0, 23.0, 24.0, 25.0, 26.0, 27.0, 28.0, 29.0, 30.0, 31.0, 32.0, 33.0, 34.0, 35.0, 36.0, 37.0, 38.0, 39.0, 40.0, 41.0, 42.0, 43.0, 44.0, 45.0, 46.0, 47.0, 48.0, 49.0, 50.0, 51.0, 52.0, 53.0, 54.0, 55.0, 56.0, 57.0, 58.0, 59.0, 60.0, 61.0, 62.0, 63.0, 64.0, 65.0, 66.0, 67.0, 68.0, 69.0, 70.0, 71.0, 72.0, 73.0, 74.0, 75.0, 76.0, 77.0, 78.0, 79.0, 80.0, 81.0, 82.0, 83.0, 84.0, 85.0, 86.0, 87.0, 88.0, 89.0, 90.0, 91.0, 92.0, 93.0, 94.0, 95.0, 96.0, 97.0, 98.0, 99.0, 100.0], \"y\": [-18.991502371651848, -5.668688721910208, 23.837990051446532, 4.2691762746771715, 20.59989599570655, 5.979170361459751, 36.95673237327556, 46.820733786112925, 49.26112483664461, 43.62666561970917, 64.30583679786182, 64.07487324725386, 61.56664977779275, 50.630164563834, 92.03076298538481, 36.1901404687582, 73.1060203676156, 55.02628280835529, 65.02623847498683, 88.39721895205761, 103.1553469287517, 120.56896027985593, 87.37496776647616, 143.38922662728783, 95.28884060183636, 103.74744197970195, 122.50349800279906, 122.49136806547662, 100.5820976429347, 105.24050210304723, 154.15245964258006, 149.11792990071388, 149.72033115834526, 154.53939618233616, 143.3206202100218, 162.65740381757595, 143.93070073493917, 166.71454162331207, 159.9400847454287, 141.7306983714924, 160.39374703836495, 201.6371471277597, 169.88841864314585, 140.1114469270088, 184.68287897191357, 167.23720341402898, 176.2736344089925, 159.6482721170623, 229.77757295685808, 175.55800606941665, 225.71494500323894, 196.83203579329341, 201.48760843542118, 195.9886641035763, 236.9205937270599, 221.27127637857583, 216.1928712955881, 220.42330521137748, 243.7023639827077, 217.36512008201905, 219.27373245407577, 263.835682031497, 272.785531572116, 234.880261366596, 259.1732856396435, 266.9406637234051, 252.46603813824325, 293.24006539150497, 264.1240801097519, 287.6135639199995, 255.40552131945805, 277.35798064162157, 274.75768935319985, 275.7216612313254, 314.12052624270376, 306.39392620829784, 316.1989591491658, 310.29308241257553, 336.46997724104364, 328.73828365104174, 336.253725981935, 327.60444006237367, 325.5668502214455, 307.4206104679447, 365.1407474227257, 355.76843356989184, 379.05860450739664, 374.67921176367, 358.9900347090843, 371.1588829905876, 368.33180613537803, 362.8780038530578, 366.8907546202584, 378.63048879539986, 378.24869685403144, 392.5415723161283, 409.81621931904795, 398.6245870005806, 367.2918475890872, 407.2771075243512], \"type\": \"scatter\", \"uid\": \"54c60fd4-1d0d-4041-9bfb-ce639e8f9da5\"}, {\"name\": \"Predicted\", \"x\": [1.0, 2.0, 3.0, 4.0, 5.0, 6.0, 7.0, 8.0, 9.0, 10.0, 11.0, 12.0, 13.0, 14.0, 15.0, 16.0, 17.0, 18.0, 19.0, 20.0, 21.0, 22.0, 23.0, 24.0, 25.0, 26.0, 27.0, 28.0, 29.0, 30.0, 31.0, 32.0, 33.0, 34.0, 35.0, 36.0, 37.0, 38.0, 39.0, 40.0, 41.0, 42.0, 43.0, 44.0, 45.0, 46.0, 47.0, 48.0, 49.0, 50.0, 51.0, 52.0, 53.0, 54.0, 55.0, 56.0, 57.0, 58.0, 59.0, 60.0, 61.0, 62.0, 63.0, 64.0, 65.0, 66.0, 67.0, 68.0, 69.0, 70.0, 71.0, 72.0, 73.0, 74.0, 75.0, 76.0, 77.0, 78.0, 79.0, 80.0, 81.0, 82.0, 83.0, 84.0, 85.0, 86.0, 87.0, 88.0, 89.0, 90.0, 91.0, 92.0, 93.0, 94.0, 95.0, 96.0, 97.0, 98.0, 99.0, 100.0], \"y\": [4.020070047141566, 8.040140094283132, 12.060210141424697, 16.080280188566263, 20.10035023570783, 24.120420282849395, 28.14049032999096, 32.160560377132526, 36.18063042427409, 40.20070047141566, 44.220770518557224, 48.24084056569879, 52.260910612840355, 56.28098065998192, 60.30105070712349, 64.32112075426505, 68.34119080140661, 72.36126084854818, 76.38133089568976, 80.40140094283132, 84.42147098997287, 88.44154103711445, 92.46161108425602, 96.48168113139758, 100.50175117853914, 104.52182122568071, 108.54189127282228, 112.56196131996384, 116.5820313671054, 120.60210141424697, 124.62217146138855, 128.6422415085301, 132.66231155567166, 136.68238160281322, 140.7024516499548, 144.72252169709637, 148.74259174423793, 152.76266179137951, 156.78273183852107, 160.80280188566263, 164.8228719328042, 168.84294197994575, 172.86301202708734, 176.8830820742289, 180.90315212137045, 184.92322216851204, 188.9432922156536, 192.96336226279516, 196.98343230993672, 201.00350235707828, 205.02357240421986, 209.04364245136142, 213.06371249850298, 217.08378254564457, 221.10385259278613, 225.12392263992768, 229.14399268706924, 233.1640627342108, 237.1841327813524, 241.20420282849395, 245.2242728756355, 249.2443429227771, 253.26441296991865, 257.2844830170602, 261.3045530642018, 265.3246231113433, 269.3446931584849, 273.36476320562645, 277.38483325276803, 281.4049032999096, 285.42497334705115, 289.44504339419274, 293.4651134413343, 297.48518348847585, 301.50525353561744, 305.52532358275903, 309.54539362990056, 313.56546367704215, 317.5855337241837, 321.60560377132526, 325.62567381846685, 329.6457438656084, 333.66581391274997, 337.6858839598915, 341.7059540070331, 345.7260240541747, 349.7460941013162, 353.7661641484578, 357.7862341955994, 361.8063042427409, 365.8263742898825, 369.8464443370241, 373.8665143841656, 377.8865844313072, 381.90665447844873, 385.9267245255903, 389.9467945727319, 393.96686461987343, 397.986934667015, 402.00700471415655], \"type\": \"scatter\", \"uid\": \"1aa050d7-6321-45e0-a40b-191e5d05f3db\"}], {\"height\": 700, \"showlegend\": true}, {\"showLink\": false, \"linkText\": \"Export to plot.ly\", \"plotlyServerURL\": \"https://plot.ly\"})});</script><script type=\"text/javascript\">window.addEventListener(\"resize\", function(){window._Plotly.Plots.resize(document.getElementById(\"f3200e51-e195-4f6c-8acf-c7c5cea93035\"));});</script>"
      ]
     },
     "metadata": {},
     "output_type": "display_data"
    }
   ],
   "source": [
    "trace0 = go.Scatter(\n",
    "    x=x,\n",
    "    y=y,\n",
    "    mode='markers',\n",
    "    name='Data'\n",
    ")\n",
    "trace1 = go.Scatter(\n",
    "    x=x,\n",
    "    y=y_pred,\n",
    "    name='Predicted'\n",
    ")\n",
    "layout = go.Layout(\n",
    "    showlegend=True,\n",
    "    height=700\n",
    ")\n",
    "fig = go.Figure(data=[trace0, trace1], layout=layout)\n",
    "plotly.iplot(fig)"
   ]
  },
  {
   "cell_type": "code",
   "execution_count": null,
   "metadata": {},
   "outputs": [],
   "source": []
  }
 ],
 "metadata": {
  "kernelspec": {
   "display_name": "Python 3",
   "language": "python",
   "name": "python3"
  },
  "language_info": {
   "codemirror_mode": {
    "name": "ipython",
    "version": 3
   },
   "file_extension": ".py",
   "mimetype": "text/x-python",
   "name": "python",
   "nbconvert_exporter": "python",
   "pygments_lexer": "ipython3",
   "version": "3.7.1"
  }
 },
 "nbformat": 4,
 "nbformat_minor": 2
}
